{
 "cells": [
  {
   "cell_type": "markdown",
   "id": "686a60fe-cc8b-446c-b077-3d186029a8a1",
   "metadata": {},
   "source": [
    "# Trabalhando com Métodos em Python"
   ]
  },
  {
   "cell_type": "code",
   "execution_count": 1,
   "id": "f9b47858-8502-4a16-a828-6868ffa44f41",
   "metadata": {},
   "outputs": [],
   "source": [
    "# Criando uma classe\n",
    "class Circulo():\n",
    "    # valor de pi é constante\n",
    "    pi = 3.14\n",
    "\n",
    "    # Este método será executado assim que um objeto dessa classe for criada.\n",
    "    # Utilizamos um valor default no raio para se caso não for atribuído no momento da criação do obj.\n",
    "    def __init__(self, raio = 5):\n",
    "        self.raio = raio\n",
    "\n",
    "    # Cálculo da área\n",
    "    def area(self):\n",
    "        return (self.raio * self.raio) * Circulo.pi\n",
    "\n",
    "    # Gerar um novo valor do raio\n",
    "    def setRaio(self, novo_raio):\n",
    "        self.raio = novo_raio\n",
    "\n",
    "    # Obtendo o valor do raio\n",
    "    def getRaio(self):\n",
    "        return self.raio"
   ]
  },
  {
   "cell_type": "code",
   "execution_count": 2,
   "id": "8ff2fae7-3474-4676-a91c-686fe9c02628",
   "metadata": {},
   "outputs": [],
   "source": [
    "# Criando um objeto sem passar o valor do raio\n",
    "c1 = Circulo()"
   ]
  },
  {
   "cell_type": "code",
   "execution_count": 3,
   "id": "0c58e939-6da1-422e-9331-50487e98a56a",
   "metadata": {},
   "outputs": [
    {
     "data": {
      "text/plain": [
       "5"
      ]
     },
     "execution_count": 3,
     "metadata": {},
     "output_type": "execute_result"
    }
   ],
   "source": [
    "# Pegando o valor setado no raio\n",
    "c1.getRaio()"
   ]
  },
  {
   "cell_type": "code",
   "execution_count": 4,
   "id": "38ce15ae-3e79-49b4-832a-988bcb3d9a2e",
   "metadata": {},
   "outputs": [
    {
     "data": {
      "text/plain": [
       "78.5"
      ]
     },
     "execution_count": 4,
     "metadata": {},
     "output_type": "execute_result"
    }
   ],
   "source": [
    "# Cálculo da área\n",
    "c1.area()"
   ]
  },
  {
   "cell_type": "code",
   "execution_count": 5,
   "id": "3d48c16f-4a22-4de8-b0b1-0bd078a2ad45",
   "metadata": {},
   "outputs": [],
   "source": [
    "# Criando um objeto passando o valor do atributo raio\n",
    "c2 = Circulo(7)"
   ]
  },
  {
   "cell_type": "code",
   "execution_count": 6,
   "id": "55895540-4457-43c0-9b80-16b5ab4257ab",
   "metadata": {},
   "outputs": [
    {
     "data": {
      "text/plain": [
       "7"
      ]
     },
     "execution_count": 6,
     "metadata": {},
     "output_type": "execute_result"
    }
   ],
   "source": [
    "# Pegando o valor do raio\n",
    "c2.getRaio()"
   ]
  },
  {
   "cell_type": "code",
   "execution_count": 7,
   "id": "fa539708-3845-4c0f-a810-38c58ca8be0e",
   "metadata": {},
   "outputs": [
    {
     "name": "stdout",
     "output_type": "stream",
     "text": [
      "O valor do raio do c2 é = 7\n",
      "O valor da área do c2 é = 153.86\n"
     ]
    }
   ],
   "source": [
    "print(f\"O valor do raio do c2 é = {c2.getRaio()}\")\n",
    "print(f\"O valor da área do c2 é = {c2.area()}\")"
   ]
  }
 ],
 "metadata": {
  "kernelspec": {
   "display_name": "Python 3 (ipykernel)",
   "language": "python",
   "name": "python3"
  },
  "language_info": {
   "codemirror_mode": {
    "name": "ipython",
    "version": 3
   },
   "file_extension": ".py",
   "mimetype": "text/x-python",
   "name": "python",
   "nbconvert_exporter": "python",
   "pygments_lexer": "ipython3",
   "version": "3.12.3"
  }
 },
 "nbformat": 4,
 "nbformat_minor": 5
}
