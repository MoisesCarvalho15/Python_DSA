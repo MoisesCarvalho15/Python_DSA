{
 "cells": [
  {
   "cell_type": "markdown",
   "id": "e650369e-9fe1-4dac-8d0d-a63b3b6ef369",
   "metadata": {},
   "source": [
    "# Trabalhando com Heranças de Classes no Python"
   ]
  },
  {
   "cell_type": "code",
   "execution_count": 1,
   "id": "f6c25b3e-d595-4640-87d5-33249732167b",
   "metadata": {},
   "outputs": [],
   "source": [
    "# Criando um super-classe (Classe mãe)\n",
    "class Animal():\n",
    "    # método construtor\n",
    "    def __init__(self):\n",
    "        print(\"Classe Animal Criado.\")\n",
    "\n",
    "    def imprimir(self):\n",
    "        print(\"Este é um animal.\")\n",
    "\n",
    "    def comer(self):\n",
    "        print(\"Hora de comer.\")\n",
    "\n",
    "    def emitir_som(self):\n",
    "        pass"
   ]
  },
  {
   "cell_type": "code",
   "execution_count": 2,
   "id": "5747f10b-5742-48d3-91ab-0754791bd398",
   "metadata": {},
   "outputs": [],
   "source": [
    "# Criando uma sub-classe\n",
    "# esta classe irá herdar todos os atributos e métodos da classe mãe\n",
    "class Cachorro(Animal):\n",
    "    # Método construtor\n",
    "    def __init__(self):\n",
    "        Animal.__init__(self) # chamando o método construtor da classe mãe\n",
    "        print(\"Objeto Cachorro Criado com sucesso.\")\n",
    "\n",
    "    # Criando um método específico para sub-classe\n",
    "    def emitir_som(self):\n",
    "        print(\"Au au!\")"
   ]
  },
  {
   "cell_type": "code",
   "execution_count": 3,
   "id": "10a8de9e-12d1-4e6c-bdfc-6ef30feda95c",
   "metadata": {},
   "outputs": [],
   "source": [
    "class Gato(Animal):\n",
    "    def __init__(self):\n",
    "        Animal.__init__(self)\n",
    "        print(\"Objeto Gato criado com sucesso.\")\n",
    "\n",
    "    def emitir_som(self):\n",
    "        print(\"Miau.\")"
   ]
  },
  {
   "cell_type": "code",
   "execution_count": 4,
   "id": "e30c0b1f-ac90-4425-b619-e6486f242ace",
   "metadata": {},
   "outputs": [
    {
     "name": "stdout",
     "output_type": "stream",
     "text": [
      "Classe Animal Criado.\n",
      "Objeto Cachorro Criado com sucesso.\n",
      "Este é um animal.\n",
      "Hora de comer.\n",
      "Au au!\n"
     ]
    }
   ],
   "source": [
    "dog1 = Cachorro()\n",
    "dog1.imprimir() # Método da classe mãe\n",
    "dog1.comer() # Método da classe mãe\n",
    "dog1.emitir_som() # Método da sub-classe que sobrescreve a classe-mãe"
   ]
  },
  {
   "cell_type": "code",
   "execution_count": 5,
   "id": "7a77ed23-1d19-4dff-83c6-d8387e915c3a",
   "metadata": {},
   "outputs": [
    {
     "name": "stdout",
     "output_type": "stream",
     "text": [
      "Classe Animal Criado.\n",
      "Objeto Gato criado com sucesso.\n",
      "Este é um animal.\n",
      "Hora de comer.\n",
      "Miau.\n"
     ]
    }
   ],
   "source": [
    "cat1 = Gato()\n",
    "cat1.imprimir() # Método da classe mãe\n",
    "cat1.comer() # Método da classe mãe\n",
    "cat1.emitir_som() # Método da sub-classe que sobrescreve a classe-mãe"
   ]
  }
 ],
 "metadata": {
  "kernelspec": {
   "display_name": "Python 3 (ipykernel)",
   "language": "python",
   "name": "python3"
  },
  "language_info": {
   "codemirror_mode": {
    "name": "ipython",
    "version": 3
   },
   "file_extension": ".py",
   "mimetype": "text/x-python",
   "name": "python",
   "nbconvert_exporter": "python",
   "pygments_lexer": "ipython3",
   "version": "3.12.3"
  }
 },
 "nbformat": 4,
 "nbformat_minor": 5
}
