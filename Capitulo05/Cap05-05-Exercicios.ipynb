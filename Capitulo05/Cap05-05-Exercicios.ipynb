{
 "cells": [
  {
   "cell_type": "markdown",
   "metadata": {},
   "source": [
    "# Exercícios sobre Classes"
   ]
  },
  {
   "cell_type": "markdown",
   "metadata": {},
   "source": [
    "## Exercício 01\n",
    "\n",
    "- Crie um objeto a partir da classe abaixo, chamado roc1.\n",
    "- Passe 2 parâmetros e depois faça um chamado aos atributos e métodos"
   ]
  },
  {
   "cell_type": "code",
   "execution_count": 1,
   "metadata": {},
   "outputs": [],
   "source": [
    "# Classe para ser usada no exercício\n",
    "class Rocket():\n",
    "    def __init__(self, x=0, y=0):\n",
    "        self.x = x\n",
    "        self.y = y\n",
    "    \n",
    "    def move_rocket(self, x_increment=0, y_increment=1):\n",
    "        self.x += x_increment\n",
    "        self.y += y_increment\n",
    "        \n",
    "    def print_rocket(self):\n",
    "        print(self.x, self.y)"
   ]
  },
  {
   "cell_type": "code",
   "execution_count": 2,
   "metadata": {},
   "outputs": [
    {
     "name": "stdout",
     "output_type": "stream",
     "text": [
      "0 0\n"
     ]
    }
   ],
   "source": [
    "roc1 = Rocket()\n",
    "roc1.print_rocket()"
   ]
  },
  {
   "cell_type": "code",
   "execution_count": 3,
   "metadata": {},
   "outputs": [
    {
     "name": "stdout",
     "output_type": "stream",
     "text": [
      "10 4\n"
     ]
    }
   ],
   "source": [
    "roc1.move_rocket(10, 4)\n",
    "roc1.print_rocket()"
   ]
  },
  {
   "cell_type": "markdown",
   "metadata": {},
   "source": [
    "## Exercício 02\n",
    "\n",
    "- Crie uma classe chamada Pessoa() com os atributos: nome, cidade, telefone e email.\n",
    "- Use pelo menos 2 métodos especiais da classe.\n",
    "- Crie um objeto dessa classe e faça as chamadas de seus métodos."
   ]
  },
  {
   "cell_type": "code",
   "execution_count": 4,
   "metadata": {},
   "outputs": [],
   "source": [
    "class Pessoa():\n",
    "    def __init__(self, nome, cidade, telefone, email):\n",
    "        self.nome = nome\n",
    "        self.cidade = cidade\n",
    "        self.telefone = telefone\n",
    "        self.email = email\n",
    "        \n",
    "    # Construtores\n",
    "    def apresentacao(self):\n",
    "        print(f\"Meu nome é {self.nome} e moro em {self.cidade}\")\n",
    "    \n",
    "    def contato(self):\n",
    "        print(f\"Entre em contato comigo pelo email: {self.email} ou pelo número de telefone {self.telefone}\")"
   ]
  },
  {
   "cell_type": "code",
   "execution_count": 5,
   "metadata": {},
   "outputs": [],
   "source": [
    "pessoa1 = Pessoa(\"Moisés\", \"Suzano-SP\", \"12345-6789\", \"teste@gmail.com\")"
   ]
  },
  {
   "cell_type": "code",
   "execution_count": 6,
   "metadata": {},
   "outputs": [
    {
     "name": "stdout",
     "output_type": "stream",
     "text": [
      "Meu nome é Moisés e moro em Suzano-SP\n",
      "Entre em contato comigo pelo email: teste@gmail.com ou pelo número de telefone 12345-6789\n"
     ]
    }
   ],
   "source": [
    "# Chamando os métodos\n",
    "pessoa1.apresentacao()\n",
    "pessoa1.contato()"
   ]
  },
  {
   "cell_type": "markdown",
   "metadata": {},
   "source": [
    "## Exercício 03\n"
   ]
  },
  {
   "cell_type": "markdown",
   "metadata": {},
   "source": [
    "- Crie uma classe Smartphone com 2 atributos, tamanho e interface\n",
    "- Crie uma classe MP3player com o atributo capacidade e que tenha os atributos da classe smartphone."
   ]
  },
  {
   "cell_type": "code",
   "execution_count": 7,
   "metadata": {},
   "outputs": [],
   "source": [
    "class Smartphone():\n",
    "    def __init__(self, tamanho, interface):\n",
    "        self.tamanho = tamanho\n",
    "        self.interface = interface\n",
    "        \n",
    "class MP3player(Smartphone):\n",
    "    def __init__(self, capacidade, tamanho = \"Médio\", interface = \"Led\"):\n",
    "        Smartphone.__init__(self, tamanho, interface)\n",
    "        self.capacidade = capacidade\n",
    "\n",
    "    def imprimir_dados(self):\n",
    "        print(f\"Dispositivo: {self.capacidade}, tamanho: {self.tamanho}, interface: {self.interface}\")"
   ]
  },
  {
   "cell_type": "code",
   "execution_count": 8,
   "metadata": {},
   "outputs": [
    {
     "name": "stdout",
     "output_type": "stream",
     "text": [
      "Dispositivo: 128 GB, tamanho: Médio, interface: Led\n"
     ]
    }
   ],
   "source": [
    "mp3 = MP3player(\"128 GB\")\n",
    "mp3.imprimir_dados()"
   ]
  }
 ],
 "metadata": {
  "kernelspec": {
   "display_name": "Python 3",
   "language": "python",
   "name": "python3"
  },
  "language_info": {
   "codemirror_mode": {
    "name": "ipython",
    "version": 3
   },
   "file_extension": ".py",
   "mimetype": "text/x-python",
   "name": "python",
   "nbconvert_exporter": "python",
   "pygments_lexer": "ipython3",
   "version": "3.12.3"
  }
 },
 "nbformat": 4,
 "nbformat_minor": 2
}
