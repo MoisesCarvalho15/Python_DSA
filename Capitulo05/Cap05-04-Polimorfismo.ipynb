{
 "cells": [
  {
   "cell_type": "markdown",
   "metadata": {},
   "source": [
    "# Trabalhando com Polimorfismo em Classes"
   ]
  },
  {
   "cell_type": "code",
   "execution_count": 1,
   "metadata": {},
   "outputs": [],
   "source": [
    "# Superclasse\n",
    "class Veiculo():\n",
    "    def __init__(self, marca, modelo):\n",
    "        self.marca = marca\n",
    "        self.modelo = modelo\n",
    "    \n",
    "    def acelerar(self):\n",
    "        pass\n",
    "    \n",
    "    def frear(self):\n",
    "        pass"
   ]
  },
  {
   "cell_type": "code",
   "execution_count": 2,
   "metadata": {},
   "outputs": [],
   "source": [
    "# Subclasse\n",
    "class Carro(Veiculo):\n",
    "    def acelerar(self):\n",
    "        print(\"O carro está acelerando!\")\n",
    "    \n",
    "    def frear(self):\n",
    "        print(\"O carro está freando!\")"
   ]
  },
  {
   "cell_type": "code",
   "execution_count": 3,
   "metadata": {},
   "outputs": [],
   "source": [
    "# Subclasse\n",
    "class Moto(Veiculo):\n",
    "    def acelerar(self):\n",
    "        print(\"A moto está acelerando!\")\n",
    "    \n",
    "    def frear(self):\n",
    "        print(\"A moto está freando!\")"
   ]
  },
  {
   "cell_type": "code",
   "execution_count": 4,
   "metadata": {},
   "outputs": [],
   "source": [
    "# Subclasse\n",
    "class Aviao(Veiculo):\n",
    "    def acelerar(self):\n",
    "        print(\"O avião está acelerando!\")\n",
    "    \n",
    "    def frear(self):\n",
    "        print(\"O avião está freando!\")\n",
    "    \n",
    "    def decolar(self):\n",
    "        print(\"O avião está decolando!\")"
   ]
  },
  {
   "cell_type": "code",
   "execution_count": 5,
   "metadata": {},
   "outputs": [],
   "source": [
    "# Criando uma lista de objetos\n",
    "lista_veiculos = [\n",
    "    Carro(\"Porsche\", \"911 Turbo\"),\n",
    "    Moto(\"Honda\", \"CB 1000\"),\n",
    "    Aviao(\"Boeing\", \"757\")\n",
    "]"
   ]
  },
  {
   "cell_type": "code",
   "execution_count": 6,
   "metadata": {},
   "outputs": [
    {
     "name": "stdout",
     "output_type": "stream",
     "text": [
      "O carro está acelerando!\n",
      "O carro está freando!\n",
      "---\n",
      "A moto está acelerando!\n",
      "A moto está freando!\n",
      "---\n",
      "O avião está acelerando!\n",
      "O avião está freando!\n",
      "O avião está decolando!\n",
      "---\n"
     ]
    }
   ],
   "source": [
    "for veiculo in lista_veiculos:\n",
    "    # imprimindo os métodos de todos os objetos\n",
    "    veiculo.acelerar()\n",
    "    veiculo.frear()\n",
    "\n",
    "    # Executando somente se o objeto for uma instância da classe\n",
    "    if isinstance(veiculo, Aviao):\n",
    "        veiculo.decolar()\n",
    "    \n",
    "    print(\"---\")"
   ]
  }
 ],
 "metadata": {
  "kernelspec": {
   "display_name": "Python 3",
   "language": "python",
   "name": "python3"
  },
  "language_info": {
   "codemirror_mode": {
    "name": "ipython",
    "version": 3
   },
   "file_extension": ".py",
   "mimetype": "text/x-python",
   "name": "python",
   "nbconvert_exporter": "python",
   "pygments_lexer": "ipython3",
   "version": "3.12.3"
  }
 },
 "nbformat": 4,
 "nbformat_minor": 2
}
