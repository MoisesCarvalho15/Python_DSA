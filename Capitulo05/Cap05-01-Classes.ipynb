{
 "cells": [
  {
   "cell_type": "markdown",
   "metadata": {},
   "source": [
    "# Capítulo 05 - Classes"
   ]
  },
  {
   "cell_type": "markdown",
   "metadata": {},
   "source": [
    "Em Programação Orientada a Objetos (POO), uma classe define as características e ações que um objeto deve possuir. <br>\n",
    "As Classes são usadas para criar objetos, que são instâncias da classe. <br>\n",
    "Cada objeto criado a partir da mesma classe terá os mesmo atributos e comportamentos.<br>\n",
    "Para criar uma classe em Python, utilizamos a palavra reservada `class Nome_da_classe`.<br>\n",
    "Usamos a primeira letra maiúscula em cada palavra no nome da classe."
   ]
  },
  {
   "cell_type": "code",
   "execution_count": 1,
   "metadata": {},
   "outputs": [],
   "source": [
    "# Criando uma classe\n",
    "class Livro():\n",
    "    # Métodos são funções que executam ações nos objetos da classe\n",
    "    # Este método vai inicializar cada objeto criado a partir desta classe\n",
    "    # (self) é uma referencia a cada atributo da própria classe\n",
    "    def __init__(self):\n",
    "        # Atributos são propriedades\n",
    "        self.titulo = \"Sapiens - Uma breve História da Humanidade\"\n",
    "        self.isbn = 9988888\n",
    "        print(\"Construtor chamado para criar um objeto desta classe.\")\n",
    "        \n",
    "    def imprime(self):\n",
    "        print(f\"Foi criado o livro {self.titulo} com ISBN {self.isbn}\")"
   ]
  },
  {
   "cell_type": "code",
   "execution_count": 2,
   "metadata": {},
   "outputs": [
    {
     "name": "stdout",
     "output_type": "stream",
     "text": [
      "Construtor chamado para criar um objeto desta classe.\n"
     ]
    }
   ],
   "source": [
    "# Criando uma instância da classe livro\n",
    "Livro1 = Livro()"
   ]
  },
  {
   "cell_type": "code",
   "execution_count": 3,
   "metadata": {},
   "outputs": [
    {
     "data": {
      "text/plain": [
       "__main__.Livro"
      ]
     },
     "execution_count": 3,
     "metadata": {},
     "output_type": "execute_result"
    }
   ],
   "source": [
    "# O objeto Livro1 é do tipo Livro\n",
    "type(Livro1)"
   ]
  },
  {
   "cell_type": "code",
   "execution_count": 4,
   "metadata": {},
   "outputs": [
    {
     "data": {
      "text/plain": [
       "'Sapiens - Uma breve História da Humanidade'"
      ]
     },
     "execution_count": 4,
     "metadata": {},
     "output_type": "execute_result"
    }
   ],
   "source": [
    "# Atributo do objeto Livro1\n",
    "Livro1.titulo"
   ]
  },
  {
   "cell_type": "code",
   "execution_count": 5,
   "metadata": {},
   "outputs": [
    {
     "name": "stdout",
     "output_type": "stream",
     "text": [
      "Foi criado o livro Sapiens - Uma breve História da Humanidade com ISBN 9988888\n"
     ]
    }
   ],
   "source": [
    "# Método do Objeto Livro1\n",
    "Livro1.imprime()"
   ]
  },
  {
   "cell_type": "code",
   "execution_count": 6,
   "metadata": {},
   "outputs": [],
   "source": [
    "# Criando a classe Livro com  parâmetro no método construtor\n",
    "class Livro():\n",
    "    \n",
    "    def __init__(self, titulo, isbn):\n",
    "        self.titulo = titulo\n",
    "        self.isbn = isbn\n",
    "        print(\"Construtor chamado para criar um objeto desta classe.\")\n",
    "        \n",
    "    def imprime(self):\n",
    "        print(f\"Este é o livro {self.titulo} com ISBN {self.isbn}\")"
   ]
  },
  {
   "cell_type": "code",
   "execution_count": 7,
   "metadata": {},
   "outputs": [
    {
     "name": "stdout",
     "output_type": "stream",
     "text": [
      "Construtor chamado para criar um objeto desta classe.\n"
     ]
    }
   ],
   "source": [
    "# Criando o objeto Livro2 que é uma instância da classe Livro\n",
    "Livro2 = Livro(\"O Poder do Hábito\", 77886611)"
   ]
  },
  {
   "cell_type": "code",
   "execution_count": 8,
   "metadata": {},
   "outputs": [
    {
     "data": {
      "text/plain": [
       "'O Poder do Hábito'"
      ]
     },
     "execution_count": 8,
     "metadata": {},
     "output_type": "execute_result"
    }
   ],
   "source": [
    "Livro2.titulo"
   ]
  },
  {
   "cell_type": "code",
   "execution_count": 9,
   "metadata": {},
   "outputs": [
    {
     "name": "stdout",
     "output_type": "stream",
     "text": [
      "Este é o livro O Poder do Hábito com ISBN 77886611\n"
     ]
    }
   ],
   "source": [
    "Livro2.imprime()"
   ]
  }
 ],
 "metadata": {
  "kernelspec": {
   "display_name": "Python 3 (ipykernel)",
   "language": "python",
   "name": "python3"
  },
  "language_info": {
   "codemirror_mode": {
    "name": "ipython",
    "version": 3
   },
   "file_extension": ".py",
   "mimetype": "text/x-python",
   "name": "python",
   "nbconvert_exporter": "python",
   "pygments_lexer": "ipython3",
   "version": "3.12.3"
  }
 },
 "nbformat": 4,
 "nbformat_minor": 4
}
