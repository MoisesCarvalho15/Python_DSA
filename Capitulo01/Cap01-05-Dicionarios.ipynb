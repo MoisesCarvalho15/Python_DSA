{
 "cells": [
  {
   "cell_type": "markdown",
   "metadata": {},
   "source": [
    "# Capítulo 1 - Dicionários"
   ]
  },
  {
   "cell_type": "markdown",
   "metadata": {},
   "source": [
    "## Trabalhando com Dicionários\n",
    "Dicionários são criados através de chaves (**{}**)\n",
    "\n",
    "Cada item do dicionário é composto por chave e valor."
   ]
  },
  {
   "cell_type": "code",
   "execution_count": 1,
   "metadata": {},
   "outputs": [],
   "source": [
    "# Criando uma lista\n",
    "estudantes_lst = [\"Pedro\", 24, \"Ana\", 22, \"Ronaldo\", 26]"
   ]
  },
  {
   "cell_type": "code",
   "execution_count": 2,
   "metadata": {},
   "outputs": [
    {
     "data": {
      "text/plain": [
       "['Pedro', 24, 'Ana', 22, 'Ronaldo', 26]"
      ]
     },
     "execution_count": 2,
     "metadata": {},
     "output_type": "execute_result"
    }
   ],
   "source": [
    "# Imprimindo a lista\n",
    "estudantes_lst"
   ]
  },
  {
   "cell_type": "code",
   "execution_count": 3,
   "metadata": {},
   "outputs": [],
   "source": [
    "# Criando um dicionário\n",
    "estudantes_dct = {\"Pedro\": 24, \"Ana\": 22, \"Ronaldo\": 26}"
   ]
  },
  {
   "cell_type": "code",
   "execution_count": 4,
   "metadata": {},
   "outputs": [
    {
     "data": {
      "text/plain": [
       "{'Pedro': 24, 'Ana': 22, 'Ronaldo': 26}"
      ]
     },
     "execution_count": 4,
     "metadata": {},
     "output_type": "execute_result"
    }
   ],
   "source": [
    "# Imprimindo o dicionário\n",
    "estudantes_dct"
   ]
  },
  {
   "cell_type": "code",
   "execution_count": 5,
   "metadata": {},
   "outputs": [
    {
     "data": {
      "text/plain": [
       "24"
      ]
     },
     "execution_count": 5,
     "metadata": {},
     "output_type": "execute_result"
    }
   ],
   "source": [
    "# Retornando a idade de um estudante\n",
    "estudantes_dct[\"Pedro\"]"
   ]
  },
  {
   "cell_type": "code",
   "execution_count": 6,
   "metadata": {},
   "outputs": [],
   "source": [
    "# Criando uma nova chave valor no dicionário\n",
    "estudantes_dct[\"Marcelo\"] = 23"
   ]
  },
  {
   "cell_type": "code",
   "execution_count": 7,
   "metadata": {},
   "outputs": [
    {
     "data": {
      "text/plain": [
       "{'Pedro': 24, 'Ana': 22, 'Ronaldo': 26, 'Marcelo': 23}"
      ]
     },
     "execution_count": 7,
     "metadata": {},
     "output_type": "execute_result"
    }
   ],
   "source": [
    "# Imprimindo o dicionário\n",
    "estudantes_dct"
   ]
  },
  {
   "cell_type": "code",
   "execution_count": 8,
   "metadata": {},
   "outputs": [
    {
     "name": "stdout",
     "output_type": "stream",
     "text": [
      "{}\n"
     ]
    }
   ],
   "source": [
    "# Limpando os valores do dicionário\n",
    "estudantes_dct.clear()\n",
    "\n",
    "# Imprimindo o dicionário\n",
    "print(estudantes_dct)"
   ]
  },
  {
   "cell_type": "code",
   "execution_count": 9,
   "metadata": {},
   "outputs": [],
   "source": [
    "# Deletando o dicionário\n",
    "del estudantes_dct"
   ]
  },
  {
   "cell_type": "code",
   "execution_count": 10,
   "metadata": {},
   "outputs": [
    {
     "ename": "NameError",
     "evalue": "name 'estudantes_dct' is not defined",
     "output_type": "error",
     "traceback": [
      "\u001b[1;31m---------------------------------------------------------------------------\u001b[0m",
      "\u001b[1;31mNameError\u001b[0m                                 Traceback (most recent call last)",
      "\u001b[1;32mc:\\GitHub\\Python_DSA\\Capitulo01\\Cap01-05-Dicionarios.ipynb Cell 12\u001b[0m line \u001b[0;36m2\n\u001b[0;32m      <a href='vscode-notebook-cell:/c%3A/GitHub/Python_DSA/Capitulo01/Cap01-05-Dicionarios.ipynb#X14sZmlsZQ%3D%3D?line=0'>1</a>\u001b[0m \u001b[39m# Retornando erro pois o dicionário não existe mais\u001b[39;00m\n\u001b[1;32m----> <a href='vscode-notebook-cell:/c%3A/GitHub/Python_DSA/Capitulo01/Cap01-05-Dicionarios.ipynb#X14sZmlsZQ%3D%3D?line=1'>2</a>\u001b[0m estudantes_dct\n",
      "\u001b[1;31mNameError\u001b[0m: name 'estudantes_dct' is not defined"
     ]
    }
   ],
   "source": [
    "# Retornando erro pois o dicionário não existe mais\n",
    "estudantes_dct"
   ]
  },
  {
   "cell_type": "code",
   "execution_count": 11,
   "metadata": {},
   "outputs": [
    {
     "name": "stdout",
     "output_type": "stream",
     "text": [
      "{'Pedro': 24, 'Ana': 22, 'Ronaldo': 26}\n"
     ]
    }
   ],
   "source": [
    "# Criando um dicionário\n",
    "estudantes = {\"Pedro\": 24, \"Ana\": 22, \"Ronaldo\": 26}\n",
    "\n",
    "# Imprimindo\n",
    "print(estudantes)"
   ]
  },
  {
   "cell_type": "code",
   "execution_count": 12,
   "metadata": {},
   "outputs": [
    {
     "data": {
      "text/plain": [
       "3"
      ]
     },
     "execution_count": 12,
     "metadata": {},
     "output_type": "execute_result"
    }
   ],
   "source": [
    "# Retornando o números de elementos\n",
    "len(estudantes)"
   ]
  },
  {
   "cell_type": "code",
   "execution_count": 13,
   "metadata": {},
   "outputs": [
    {
     "data": {
      "text/plain": [
       "dict_keys(['Pedro', 'Ana', 'Ronaldo'])"
      ]
     },
     "execution_count": 13,
     "metadata": {},
     "output_type": "execute_result"
    }
   ],
   "source": [
    "# Retornando as chaves do dicionário\n",
    "estudantes.keys()"
   ]
  },
  {
   "cell_type": "code",
   "execution_count": 14,
   "metadata": {},
   "outputs": [
    {
     "data": {
      "text/plain": [
       "dict_values([24, 22, 26])"
      ]
     },
     "execution_count": 14,
     "metadata": {},
     "output_type": "execute_result"
    }
   ],
   "source": [
    "# Retornando os valores do dicionário\n",
    "estudantes.values()"
   ]
  },
  {
   "cell_type": "code",
   "execution_count": 15,
   "metadata": {},
   "outputs": [
    {
     "data": {
      "text/plain": [
       "dict_items([('Pedro', 24), ('Ana', 22), ('Ronaldo', 26)])"
      ]
     },
     "execution_count": 15,
     "metadata": {},
     "output_type": "execute_result"
    }
   ],
   "source": [
    "# Retornando os elementos do dicionário\n",
    "estudantes.items()\n"
   ]
  },
  {
   "cell_type": "code",
   "execution_count": 16,
   "metadata": {},
   "outputs": [
    {
     "name": "stdout",
     "output_type": "stream",
     "text": [
      "{'Pedro': 24, 'Ana': 22, 'Ronaldo': 26}\n"
     ]
    }
   ],
   "source": [
    "# Criando outro dicionário\n",
    "estudantes2 = {\"Camila\": 27, \"Adriana\":28, \"Roberta\":26}\n",
    "\n",
    "# Imprimindo o dicionário\n",
    "print(estudantes)"
   ]
  },
  {
   "cell_type": "code",
   "execution_count": 17,
   "metadata": {},
   "outputs": [],
   "source": [
    "# Acrescentando itens de um dicionário para o outro\n",
    "estudantes.update(estudantes2)"
   ]
  },
  {
   "cell_type": "code",
   "execution_count": 18,
   "metadata": {},
   "outputs": [
    {
     "name": "stdout",
     "output_type": "stream",
     "text": [
      "{'Pedro': 24, 'Ana': 22, 'Ronaldo': 26, 'Camila': 27, 'Adriana': 28, 'Roberta': 26}\n"
     ]
    }
   ],
   "source": [
    "# Imprimindo o dicionário\n",
    "print(estudantes)"
   ]
  },
  {
   "cell_type": "code",
   "execution_count": 19,
   "metadata": {},
   "outputs": [
    {
     "name": "stdout",
     "output_type": "stream",
     "text": [
      "{}\n"
     ]
    }
   ],
   "source": [
    "# Criando um dicionário vazio\n",
    "dict_teste= {}\n",
    "\n",
    "# Imprimindo o dicionário\n",
    "print(dict_teste)"
   ]
  },
  {
   "cell_type": "code",
   "execution_count": 20,
   "metadata": {},
   "outputs": [
    {
     "name": "stdout",
     "output_type": "stream",
     "text": [
      "{'Chave_um': 2}\n"
     ]
    }
   ],
   "source": [
    "# Adicionando item no dicionário\n",
    "dict_teste[\"Chave_um\"] = 2\n",
    "\n",
    "# Imprimindo o dicionário\n",
    "print(dict_teste)"
   ]
  },
  {
   "cell_type": "code",
   "execution_count": 21,
   "metadata": {},
   "outputs": [],
   "source": [
    "# Adicionando itens no dicionário\n",
    "dict_teste[\"Chave_dois\"] = 4\n",
    "dict_teste[\"Chave_tres\"] = 8"
   ]
  },
  {
   "cell_type": "code",
   "execution_count": 22,
   "metadata": {},
   "outputs": [],
   "source": [
    "# Atribuindo os itens do dicionário em variáveis\n",
    "a = dict_teste[\"Chave_um\"]\n",
    "b = dict_teste[\"Chave_dois\"]\n",
    "c = dict_teste[\"Chave_tres\"]"
   ]
  },
  {
   "cell_type": "code",
   "execution_count": 23,
   "metadata": {},
   "outputs": [
    {
     "name": "stdout",
     "output_type": "stream",
     "text": [
      "2 4 8\n"
     ]
    }
   ],
   "source": [
    "# Imprimindo as variáveis com os valores do dicionário\n",
    "print(a, b, c)"
   ]
  },
  {
   "cell_type": "code",
   "execution_count": 24,
   "metadata": {},
   "outputs": [],
   "source": [
    "# Criando um dicionário de listas\n",
    "dict2 = {\"chave1\": 1230, \"chave2\": [22, 45, 73.4], \"chave3\": [\"picanha\", \"fraldinha\", \"alcatra\"]}"
   ]
  },
  {
   "cell_type": "code",
   "execution_count": 25,
   "metadata": {},
   "outputs": [
    {
     "data": {
      "text/plain": [
       "{'chave1': 1230,\n",
       " 'chave2': [22, 45, 73.4],\n",
       " 'chave3': ['picanha', 'fraldinha', 'alcatra']}"
      ]
     },
     "execution_count": 25,
     "metadata": {},
     "output_type": "execute_result"
    }
   ],
   "source": [
    "# Imprimindo o dicionário\n",
    "dict2"
   ]
  },
  {
   "cell_type": "code",
   "execution_count": 26,
   "metadata": {},
   "outputs": [
    {
     "data": {
      "text/plain": [
       "[22, 45, 73.4]"
      ]
     },
     "execution_count": 26,
     "metadata": {},
     "output_type": "execute_result"
    }
   ],
   "source": [
    "# Imprimindo a lista do dicionário\n",
    "dict2[\"chave2\"]"
   ]
  },
  {
   "cell_type": "code",
   "execution_count": 27,
   "metadata": {},
   "outputs": [
    {
     "data": {
      "text/plain": [
       "'picanha'"
      ]
     },
     "execution_count": 27,
     "metadata": {},
     "output_type": "execute_result"
    }
   ],
   "source": [
    "# Acessando um item da lista, dentro do dicionário\n",
    "dict2[\"chave3\"][0]"
   ]
  },
  {
   "cell_type": "code",
   "execution_count": 28,
   "metadata": {},
   "outputs": [
    {
     "name": "stdout",
     "output_type": "stream",
     "text": [
      "20\n"
     ]
    }
   ],
   "source": [
    "# Fazendo operações dentro das listas no dicionário\n",
    "valor1 = dict2[\"chave2\"][0] - 2\n",
    "\n",
    "# Imprimindo a variável\n",
    "print(valor1)"
   ]
  },
  {
   "cell_type": "code",
   "execution_count": 29,
   "metadata": {},
   "outputs": [],
   "source": [
    "# Atualizando um item na lista com operação\n",
    "dict2[\"chave2\"][0] -= 2"
   ]
  },
  {
   "cell_type": "code",
   "execution_count": 30,
   "metadata": {},
   "outputs": [
    {
     "data": {
      "text/plain": [
       "[20, 45, 73.4]"
      ]
     },
     "execution_count": 30,
     "metadata": {},
     "output_type": "execute_result"
    }
   ],
   "source": [
    "# Imprimindo a lista dentro do dicionário\n",
    "dict2[\"chave2\"]"
   ]
  },
  {
   "cell_type": "markdown",
   "metadata": {},
   "source": [
    "### Criando Dicionários Aninhados"
   ]
  },
  {
   "cell_type": "code",
   "execution_count": 31,
   "metadata": {},
   "outputs": [],
   "source": [
    "# Criando um dicionário aninhado\n",
    "dict_aninhado = {\"chave1\": {\"chave2_aninhada\":{\"chave3_aninhada\": \"Dicionário aninhados em Python\"}}}"
   ]
  },
  {
   "cell_type": "code",
   "execution_count": 32,
   "metadata": {},
   "outputs": [
    {
     "data": {
      "text/plain": [
       "{'chave1': {'chave2_aninhada': {'chave3_aninhada': 'Dicionário aninhados em Python'}}}"
      ]
     },
     "execution_count": 32,
     "metadata": {},
     "output_type": "execute_result"
    }
   ],
   "source": [
    "# Imprimindo o dicionário aninhado\n",
    "dict_aninhado"
   ]
  },
  {
   "cell_type": "code",
   "execution_count": 33,
   "metadata": {},
   "outputs": [
    {
     "data": {
      "text/plain": [
       "'Dicionário aninhados em Python'"
      ]
     },
     "execution_count": 33,
     "metadata": {},
     "output_type": "execute_result"
    }
   ],
   "source": [
    "# Buscando um valor dentro do dicionário aninhado\n",
    "dict_aninhado[\"chave1\"][\"chave2_aninhada\"][\"chave3_aninhada\"]"
   ]
  }
 ],
 "metadata": {
  "kernelspec": {
   "display_name": "Python 3",
   "language": "python",
   "name": "python3"
  },
  "language_info": {
   "codemirror_mode": {
    "name": "ipython",
    "version": 3
   },
   "file_extension": ".py",
   "mimetype": "text/x-python",
   "name": "python",
   "nbconvert_exporter": "python",
   "pygments_lexer": "ipython3",
   "version": "3.11.4"
  }
 },
 "nbformat": 4,
 "nbformat_minor": 2
}
