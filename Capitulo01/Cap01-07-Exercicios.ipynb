{
 "cells": [
  {
   "cell_type": "markdown",
   "metadata": {},
   "source": [
    "# Capítulo 1 - Exercícios"
   ]
  },
  {
   "cell_type": "markdown",
   "metadata": {},
   "source": [
    "## Exercício 1\n",
    "\n",
    "Imprima na tela os números de 1 a 10. Use uma lista para armazenar os números."
   ]
  },
  {
   "cell_type": "code",
   "execution_count": 1,
   "metadata": {},
   "outputs": [
    {
     "name": "stdout",
     "output_type": "stream",
     "text": [
      "[1, 2, 3, 4, 5, 6, 7, 8, 9, 10]\n"
     ]
    }
   ],
   "source": [
    "# Criando uma lista\n",
    "numeros = [1, 2, 3, 4, 5, 6, 7, 8, 9, 10]\n",
    "\n",
    "# Imprimindo a lista\n",
    "print(numeros)"
   ]
  },
  {
   "cell_type": "markdown",
   "metadata": {},
   "source": [
    "## Exercício 2 \n",
    "\n",
    "Crie uma lista de 5 objetos e imprima na tela"
   ]
  },
  {
   "cell_type": "code",
   "execution_count": 2,
   "metadata": {},
   "outputs": [
    {
     "name": "stdout",
     "output_type": "stream",
     "text": [
      "['Cadeira', 'Bicicleta', 'Mesa', 'Quadro', 'Computador']\n"
     ]
    }
   ],
   "source": [
    "# Criando uma lista\n",
    "objetos = [\"Cadeira\", \"Bicicleta\", \"Mesa\", \"Quadro\", \"Computador\"]\n",
    "\n",
    "# Imprimindo a lista\n",
    "print(objetos)"
   ]
  },
  {
   "cell_type": "markdown",
   "metadata": {},
   "source": [
    "## Exercício 3\n",
    "\n",
    "Crie duas strings e concatene as duas em uma terceira string"
   ]
  },
  {
   "cell_type": "code",
   "execution_count": 3,
   "metadata": {},
   "outputs": [
    {
     "name": "stdout",
     "output_type": "stream",
     "text": [
      "Moisés Santos\n"
     ]
    }
   ],
   "source": [
    "# Criando as strings e salvando em variáveis\n",
    "nome = \"Moisés\"\n",
    "sobrenome = \"Santos\"\n",
    "\n",
    "# Concatenando as strings\n",
    "nome_completo = nome + \" \" + sobrenome\n",
    "\n",
    "# Imprimindo a string\n",
    "print(nome_completo)"
   ]
  },
  {
   "cell_type": "markdown",
   "metadata": {},
   "source": [
    "## Exercício 4\n",
    "\n",
    "Crie uma tupla com os seguintes elementos: 1, 2, 2, 3, 4, 4, 4, 5 e depois utilize a função count do \n",
    "\n",
    "objeto tupla para verificar quantas vezes o número 4 aparece na tupla"
   ]
  },
  {
   "cell_type": "code",
   "execution_count": 4,
   "metadata": {},
   "outputs": [
    {
     "name": "stdout",
     "output_type": "stream",
     "text": [
      "3\n"
     ]
    }
   ],
   "source": [
    "# Criando uma tupla\n",
    "numeros = (1, 2, 2, 3, 4, 4, 4, 5)\n",
    "\n",
    "# Imprimindo a quantidade de vezes que um determinado número se repete\n",
    "print(numeros.count(4))"
   ]
  },
  {
   "cell_type": "markdown",
   "metadata": {},
   "source": [
    "## Exercício 5\n",
    "\n",
    "Crie um dicionário vazio e imprima na tela"
   ]
  },
  {
   "cell_type": "code",
   "execution_count": 5,
   "metadata": {},
   "outputs": [
    {
     "name": "stdout",
     "output_type": "stream",
     "text": [
      "{}\n"
     ]
    }
   ],
   "source": [
    "# Criando um dicionário vazio\n",
    "dict1 = {}\n",
    "\n",
    "# Imprimindo o dicionário\n",
    "print(dict1)"
   ]
  },
  {
   "cell_type": "markdown",
   "metadata": {},
   "source": [
    "## Exercício 6\n",
    "\n",
    "Crie um dicionário com 3 chaves e 3 valores e imprima na tela"
   ]
  },
  {
   "cell_type": "code",
   "execution_count": 6,
   "metadata": {},
   "outputs": [
    {
     "name": "stdout",
     "output_type": "stream",
     "text": [
      "{'chave1': 1, 'chave2': 2, 'chave3': 3}\n"
     ]
    }
   ],
   "source": [
    "# Criando um dicionário com 3 chaves e valores\n",
    "dict1 = {\"chave1\": 1, \"chave2\": 2, \"chave3\": 3}\n",
    "\n",
    "# Imprimindo o dicionário\n",
    "print(dict1)"
   ]
  },
  {
   "cell_type": "markdown",
   "metadata": {},
   "source": [
    "## Exercício 7\n",
    "\n",
    "Adicione mais um elemento ao dicionário criado no exercício anterior e imprima na tela"
   ]
  },
  {
   "cell_type": "code",
   "execution_count": 7,
   "metadata": {},
   "outputs": [
    {
     "name": "stdout",
     "output_type": "stream",
     "text": [
      "{'chave1': 1, 'chave2': 2, 'chave3': 3, 'chave4': 4}\n"
     ]
    }
   ],
   "source": [
    "# Adicionando um elemento ao dicionário já criado\n",
    "dict1[\"chave4\"] = 4\n",
    "\n",
    "# Imprimindo o dicionário atualizado\n",
    "print(dict1)"
   ]
  },
  {
   "cell_type": "markdown",
   "metadata": {},
   "source": [
    "## Exercício 8\n",
    "\n",
    "Crie um dicionário comm 3 chaves e 3 valores.\n",
    "\n",
    "Um dos valores deve ser uma lista de 2 elementos numéricos.\n",
    "\n",
    "Imprima o dicionário na tela."
   ]
  },
  {
   "cell_type": "code",
   "execution_count": 8,
   "metadata": {},
   "outputs": [
    {
     "name": "stdout",
     "output_type": "stream",
     "text": [
      "{'nome': 'Moisés', 'sobrenome': 'Santos', 'numeros': [26, 51]}\n"
     ]
    }
   ],
   "source": [
    "# Criando um dicionário com 3 chaves e valores\n",
    "dict2 = {\"nome\": \"Moisés\", \"sobrenome\": \"Santos\", \"numeros\": [26, 51]}\n",
    "\n",
    "# Imprimindo o dicionário\n",
    "print(dict2)"
   ]
  },
  {
   "cell_type": "markdown",
   "metadata": {},
   "source": [
    "## Exercício 9\n",
    "\n",
    "Crie uma lista de 4 elementos. O primeiro elemento deve ser uma string,\n",
    "\n",
    "o segundo uma tupla de 2 elementos, o terceiro um dicionário com 2 chaves e 2 valores e\n",
    "\n",
    "o quarto elemento um valor do tipo float.\n",
    "\n",
    "Imprima a lista"
   ]
  },
  {
   "cell_type": "code",
   "execution_count": 9,
   "metadata": {},
   "outputs": [
    {
     "name": "stdout",
     "output_type": "stream",
     "text": [
      "['Curso DSA', (10, 20), {'key1': 1, 'key2': 2}, 13.141516]\n"
     ]
    }
   ],
   "source": [
    "# Criando a lista com 4 elementos diferentes\n",
    "lista = [\n",
    "    \"Curso DSA\",\n",
    "    (10, 20),\n",
    "    {\"key1\": 1, \"key2\": 2},\n",
    "    13.141516\n",
    "]\n",
    "\n",
    "# Imprimindo a lista\n",
    "print(lista)"
   ]
  },
  {
   "cell_type": "markdown",
   "metadata": {},
   "source": [
    "## Exercício 10\n",
    "\n",
    "Considere a frase: Cientista de Dados é o profissional mais sexy do século XXI\n",
    "\n",
    "Imprima na tela apenas os caracteres da posição 1 a 18."
   ]
  },
  {
   "cell_type": "code",
   "execution_count": 10,
   "metadata": {},
   "outputs": [
    {
     "name": "stdout",
     "output_type": "stream",
     "text": [
      "Cientista de Dados\n"
     ]
    }
   ],
   "source": [
    "# Frase\n",
    "frase = 'Cientista de Dados é o profissional mais sexy do século XXI'\n",
    "\n",
    "# Imprimindo o slice da frase\n",
    "print(frase[0:18])"
   ]
  }
 ],
 "metadata": {
  "kernelspec": {
   "display_name": "Python 3",
   "language": "python",
   "name": "python3"
  },
  "language_info": {
   "codemirror_mode": {
    "name": "ipython",
    "version": 3
   },
   "file_extension": ".py",
   "mimetype": "text/x-python",
   "name": "python",
   "nbconvert_exporter": "python",
   "pygments_lexer": "ipython3",
   "version": "3.11.4"
  }
 },
 "nbformat": 4,
 "nbformat_minor": 2
}
