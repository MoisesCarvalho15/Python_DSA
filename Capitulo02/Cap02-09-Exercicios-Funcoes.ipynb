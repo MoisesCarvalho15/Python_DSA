{
 "cells": [
  {
   "cell_type": "markdown",
   "metadata": {},
   "source": [
    "# Capítulo 2 - Exercícios Funções"
   ]
  },
  {
   "cell_type": "markdown",
   "metadata": {},
   "source": [
    "## Exercício 1\n",
    "\n",
    "Crie uma função que imprima a sequência de números pares entre 2 e 20 (a função não recebe parâmetro)\n",
    "\n",
    "Depois faça uma chamada à função para listar os números"
   ]
  },
  {
   "cell_type": "code",
   "execution_count": 1,
   "metadata": {},
   "outputs": [
    {
     "name": "stdout",
     "output_type": "stream",
     "text": [
      "2\n",
      "4\n",
      "6\n",
      "8\n",
      "10\n",
      "12\n",
      "14\n",
      "16\n",
      "18\n",
      "20\n"
     ]
    }
   ],
   "source": [
    "# Criação da função\n",
    "def numeros_pares():\n",
    "    # Percorrendo cada número da lista gerada\n",
    "    for numero in range(2, 21, 2):\n",
    "        print(numero)\n",
    "\n",
    "# Chamando a função\n",
    "numeros_pares()"
   ]
  },
  {
   "cell_type": "markdown",
   "metadata": {},
   "source": [
    "## Exercício 2\n",
    "\n",
    "Crie uma função que receba uma string como argumento e retorne a mesma string em letras maiúsculas.\n",
    "\n",
    "Faça uma chamada à função, passando como parâmetro uma string"
   ]
  },
  {
   "cell_type": "code",
   "execution_count": 2,
   "metadata": {},
   "outputs": [
    {
     "data": {
      "text/plain": [
       "'ESTOU APRENDENDO PYTHON NA DSA!'"
      ]
     },
     "execution_count": 2,
     "metadata": {},
     "output_type": "execute_result"
    }
   ],
   "source": [
    "def maiuscula(texto):\n",
    "    return texto.upper()\n",
    "\n",
    "maiuscula(\"Estou aprendendo Python na DSA!\")"
   ]
  },
  {
   "cell_type": "markdown",
   "metadata": {},
   "source": [
    "## Exercício 3\n",
    "\n",
    "Crie uma função que receba como parâmetro uma lista de 4 elementos\n",
    "\n",
    "Adicione 2 elementos a lista e imprima a lista"
   ]
  },
  {
   "cell_type": "code",
   "execution_count": 3,
   "metadata": {},
   "outputs": [
    {
     "name": "stdout",
     "output_type": "stream",
     "text": [
      "['Item 1', 'Item 2', 'Item 3', 'Item 4', 'Item 5', 'Item 6']\n"
     ]
    }
   ],
   "source": [
    "def adiciona_itens(lista):\n",
    "    lista.append(\"Item 5\")\n",
    "    lista.append(\"Item 6\")\n",
    "\n",
    "itens = [\"Item 1\", \"Item 2\", \"Item 3\", \"Item 4\"]\n",
    "\n",
    "adiciona_itens(itens)\n",
    "print(itens) "
   ]
  },
  {
   "cell_type": "markdown",
   "metadata": {},
   "source": [
    "## Exercício 4\n",
    "\n",
    "Crie uma função que receba um argumento formal e uma possível lista de elementos. \n",
    "\n",
    "Faça duas chamadas à função, com apenas 1 elemento e na segunda chamada com 4 elementos"
   ]
  },
  {
   "cell_type": "code",
   "execution_count": 4,
   "metadata": {},
   "outputs": [
    {
     "name": "stdout",
     "output_type": "stream",
     "text": [
      "Apenas 1 argumento\n",
      "Argumento 1\n",
      "Argumento 2\n",
      "Argumento 3\n",
      "Argumento 4\n"
     ]
    }
   ],
   "source": [
    "def imprimindo(arg1, *lista):\n",
    "    print(arg1)\n",
    "    for i in lista:\n",
    "        print(i)\n",
    "\n",
    "imprimindo(\"Apenas 1 argumento\")\n",
    "imprimindo(\"Argumento 1\", \"Argumento 2\", \"Argumento 3\", \"Argumento 4\")"
   ]
  },
  {
   "cell_type": "markdown",
   "metadata": {},
   "source": [
    "## Exercício 5\n",
    "\n",
    "Crie uma função anônima e atribua seu retorno a uma variável chamada soma. \n",
    "\n",
    "A expressão vai receber 2 números como parâmetro e retornar a soma deles"
   ]
  },
  {
   "cell_type": "code",
   "execution_count": 5,
   "metadata": {},
   "outputs": [
    {
     "name": "stdout",
     "output_type": "stream",
     "text": [
      "O resultado é: 22\n"
     ]
    }
   ],
   "source": [
    "soma = lambda n1,n2: n1 + n2\n",
    "\n",
    "print(\"O resultado é:\", soma(10, 12))"
   ]
  },
  {
   "cell_type": "markdown",
   "metadata": {},
   "source": [
    "## Exercício 6\n",
    "\n",
    "Abaixo você encontra uma lista com temperaturas em graus Celsius\n",
    "\n",
    "Crie uma função anônima que converta cada temperatura para Fahrenheit\n",
    "\n",
    "Isso permite aplicar sua função a cada elemento da lista\n",
    "\n",
    "```python\n",
    "Celsius = [39.2, 36.5, 37.3, 37.8]\n",
    "Fahrenheit = map(coloque_aqui_sua_função_lambda)\n",
    "print (list(Fahrenheit))\n",
    "```"
   ]
  },
  {
   "cell_type": "code",
   "execution_count": 6,
   "metadata": {},
   "outputs": [
    {
     "name": "stdout",
     "output_type": "stream",
     "text": [
      "[102.56, 97.7, 99.14, 100.03999999999999]\n"
     ]
    }
   ],
   "source": [
    "Celsius = [39.2, 36.5, 37.3, 37.8]\n",
    "Fahrenheit = map(lambda x: 1.80 * x + 32, Celsius)\n",
    "print (list(Fahrenheit))"
   ]
  },
  {
   "cell_type": "markdown",
   "metadata": {},
   "source": [
    "## Exercício 7\n",
    "\n",
    "Crie uma list comprehension que imprima o quadrado dos números de 1 a 10"
   ]
  },
  {
   "cell_type": "code",
   "execution_count": 7,
   "metadata": {},
   "outputs": [
    {
     "data": {
      "text/plain": [
       "[1, 4, 9, 16, 25, 36, 49, 64, 81, 100]"
      ]
     },
     "execution_count": 7,
     "metadata": {},
     "output_type": "execute_result"
    }
   ],
   "source": [
    "[x**2 for x in range(1,11)]"
   ]
  },
  {
   "cell_type": "markdown",
   "metadata": {},
   "source": [
    "## Exercício 8\n",
    "\n",
    "Crie uma list comprehension que imprima as palavras com a letra \"a\" no nome\n",
    "\n",
    "`palavras = [\"maça\", \"coiote\", \"banana\", \"terreno\", \"Python\"]`\n",
    "\n"
   ]
  },
  {
   "cell_type": "code",
   "execution_count": 8,
   "metadata": {},
   "outputs": [
    {
     "name": "stdout",
     "output_type": "stream",
     "text": [
      "['maça', 'banana']\n"
     ]
    }
   ],
   "source": [
    "palavras = [\"maça\", \"coiote\", \"banana\", \"terreno\", \"Python\"]\n",
    "\n",
    "resultado = [x for x in palavras if \"a\" in x]\n",
    "print(resultado)"
   ]
  },
  {
   "cell_type": "markdown",
   "metadata": {},
   "source": [
    "## Exercício 9\n",
    "\n",
    "Crie uma list comprehension que imprima os números menores que 5 em um intervalo de 1 a 10"
   ]
  },
  {
   "cell_type": "code",
   "execution_count": 9,
   "metadata": {},
   "outputs": [
    {
     "name": "stdout",
     "output_type": "stream",
     "text": [
      "[1, 2, 3, 4]\n"
     ]
    }
   ],
   "source": [
    "resultado = [x for x in range(1, 10) if x < 5]\n",
    "\n",
    "print(resultado)"
   ]
  }
 ],
 "metadata": {
  "kernelspec": {
   "display_name": "Python 3",
   "language": "python",
   "name": "python3"
  },
  "language_info": {
   "codemirror_mode": {
    "name": "ipython",
    "version": 3
   },
   "file_extension": ".py",
   "mimetype": "text/x-python",
   "name": "python",
   "nbconvert_exporter": "python",
   "pygments_lexer": "ipython3",
   "version": "3.11.4"
  }
 },
 "nbformat": 4,
 "nbformat_minor": 2
}
