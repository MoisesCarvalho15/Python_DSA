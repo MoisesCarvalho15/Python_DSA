{
 "cells": [
  {
   "cell_type": "markdown",
   "metadata": {},
   "source": [
    "# Capítulo 2 - Exercícios de Loops e Condicionais"
   ]
  },
  {
   "cell_type": "markdown",
   "metadata": {},
   "source": [
    "## Exercício 1\n",
    "\n",
    "Crie uma estrutura que pergunte ao usuário qual o dia da semana. \n",
    "\n",
    "Se o dia for igual a Domingo ou igual a sábado, imprima na tela \"Hoje é dia de descanso\".\n",
    "\n",
    "Caso contrário imprima na tela \"Você precisa trabalhar!\""
   ]
  },
  {
   "cell_type": "code",
   "execution_count": 1,
   "metadata": {},
   "outputs": [
    {
     "name": "stdout",
     "output_type": "stream",
     "text": [
      "Hoje é dia de descanso!\n"
     ]
    }
   ],
   "source": [
    "dia_semana = input(\"Qual o dia da semana? \").lower()\n",
    "\n",
    "if dia_semana == \"sábado\" or dia_semana == \"domingo\":\n",
    "    print(\"Hoje é dia de descanso!\")\n",
    "else:\n",
    "    print(\"Você precisa Trabalhar!\")"
   ]
  },
  {
   "cell_type": "markdown",
   "metadata": {},
   "source": [
    "## Exercício 2\n",
    "\n",
    "Crie uma lista de 5 frutas e verifique se a fruta 'Morango' faz parte da lista"
   ]
  },
  {
   "cell_type": "code",
   "execution_count": 2,
   "metadata": {},
   "outputs": [
    {
     "name": "stdout",
     "output_type": "stream",
     "text": [
      "A fruta 'Morango' está presente na lista!\n"
     ]
    }
   ],
   "source": [
    "frutas = [\"Banana\", \"Abacaxi\", \"Morango\", \"Amora\", \"Caqui\"]\n",
    "\n",
    "if \"Morango\" in frutas:\n",
    "    print(\"A fruta 'Morango' está presente na lista!\")\n",
    "else:\n",
    "    print(\"A fruta 'Morango' não está presente na lista!\")"
   ]
  },
  {
   "cell_type": "markdown",
   "metadata": {},
   "source": [
    "## Exercício 3\n",
    "\n",
    "Crie uma tupla de 4 elementos, multiplique cada elemento da tupla por 2 e guarde os resultados em uma lista"
   ]
  },
  {
   "cell_type": "code",
   "execution_count": 3,
   "metadata": {},
   "outputs": [
    {
     "name": "stdout",
     "output_type": "stream",
     "text": [
      "(1, 2, 3, 4)\n",
      "[2, 4, 6, 8]\n"
     ]
    }
   ],
   "source": [
    "tupla_numeros = (1, 2, 3, 4)\n",
    "lista_numeros = []\n",
    "\n",
    "for tupla_num in tupla_numeros:\n",
    "    lista_numeros.append(tupla_num * 2)\n",
    "\n",
    "\n",
    "print(tupla_numeros)   \n",
    "print(lista_numeros)"
   ]
  },
  {
   "cell_type": "markdown",
   "metadata": {},
   "source": [
    "## Exercício 4\n",
    "\n",
    "Crie uma sequência de números pares entre 100 e 150 e imprima na tela"
   ]
  },
  {
   "cell_type": "code",
   "execution_count": 4,
   "metadata": {},
   "outputs": [
    {
     "name": "stdout",
     "output_type": "stream",
     "text": [
      "100\n",
      "102\n",
      "104\n",
      "106\n",
      "108\n",
      "110\n",
      "112\n",
      "114\n",
      "116\n",
      "118\n",
      "120\n",
      "122\n",
      "124\n",
      "126\n",
      "128\n",
      "130\n",
      "132\n",
      "134\n",
      "136\n",
      "138\n",
      "140\n",
      "142\n",
      "144\n",
      "146\n",
      "148\n",
      "150\n"
     ]
    }
   ],
   "source": [
    "for num in range(100, 151, 2):\n",
    "    print(num)"
   ]
  },
  {
   "cell_type": "markdown",
   "metadata": {},
   "source": [
    "## Exercício 5\n",
    "\n",
    "Crie uma variável chamada temperatura e atribua o valor 40.\n",
    "\n",
    "Enquanto a temperatura for maior que 35, imprima a temperatura na tela."
   ]
  },
  {
   "cell_type": "code",
   "execution_count": 5,
   "metadata": {},
   "outputs": [
    {
     "name": "stdout",
     "output_type": "stream",
     "text": [
      "A temperatura atual é de: 40°C\n",
      "A temperatura atual é de: 39°C\n",
      "A temperatura atual é de: 38°C\n",
      "A temperatura atual é de: 37°C\n",
      "A temperatura atual é de: 36°C\n"
     ]
    }
   ],
   "source": [
    "temperatura = 40\n",
    "\n",
    "# Condição\n",
    "while temperatura > 35:\n",
    "    print(f\"A temperatura atual é de: {temperatura}°C\")\n",
    "    temperatura -= 1"
   ]
  },
  {
   "cell_type": "markdown",
   "metadata": {},
   "source": [
    "## Exercício 6\n",
    "\n",
    "Crie uma variável chamada contador com o valor 0.\n",
    "\n",
    "Enquanto contador for manor que 100, imprima os valores na tela.\n",
    "\n",
    "Quando for encontrado o valor 23, interrompa a execução do programa."
   ]
  },
  {
   "cell_type": "code",
   "execution_count": 6,
   "metadata": {},
   "outputs": [
    {
     "name": "stdout",
     "output_type": "stream",
     "text": [
      "O valor atual é: 0\n",
      "O valor atual é: 1\n",
      "O valor atual é: 2\n",
      "O valor atual é: 3\n",
      "O valor atual é: 4\n",
      "O valor atual é: 5\n",
      "O valor atual é: 6\n",
      "O valor atual é: 7\n",
      "O valor atual é: 8\n",
      "O valor atual é: 9\n",
      "O valor atual é: 10\n",
      "O valor atual é: 11\n",
      "O valor atual é: 12\n",
      "O valor atual é: 13\n",
      "O valor atual é: 14\n",
      "O valor atual é: 15\n",
      "O valor atual é: 16\n",
      "O valor atual é: 17\n",
      "O valor atual é: 18\n",
      "O valor atual é: 19\n",
      "O valor atual é: 20\n",
      "O valor atual é: 21\n",
      "O valor atual é: 22\n",
      "Encerrando o programa\n"
     ]
    }
   ],
   "source": [
    "contador = 0\n",
    "\n",
    "while contador < 100:\n",
    "    if contador == 23:\n",
    "        print(\"Encerrando o programa\")\n",
    "        break\n",
    "    \n",
    "    print(f\"O valor atual é: {contador}\")\n",
    "    contador += 1"
   ]
  },
  {
   "cell_type": "markdown",
   "metadata": {},
   "source": [
    "## Exercício 7\n",
    "\n",
    "Crie uma lista vazia e uma variável com o valor 4.\n",
    "\n",
    "Enquanto o valor da variável for menor ou igual a 20, adicione à lista, epenas os valores pares e imprima a lista no final."
   ]
  },
  {
   "cell_type": "code",
   "execution_count": 7,
   "metadata": {},
   "outputs": [
    {
     "name": "stdout",
     "output_type": "stream",
     "text": [
      "Os números pares de 4 à 20 são: [4, 6, 8, 10, 12, 14, 16, 18, 20]\n"
     ]
    }
   ],
   "source": [
    "contador = 4\n",
    "numeros_pares = []\n",
    "\n",
    "while contador <= 20:\n",
    "    if contador % 2 == 0:\n",
    "        numeros_pares.append(contador)\n",
    "    \n",
    "    contador += 1\n",
    "\n",
    "print(f\"Os números pares de 4 à 20 são: {numeros_pares}\")"
   ]
  },
  {
   "cell_type": "markdown",
   "metadata": {},
   "source": [
    "## Exercício 8\n",
    "\n",
    "Transforme o resultado da função range abaixo em uma lista:\n",
    "\n",
    "função range: `range(5, 45, 2)`"
   ]
  },
  {
   "cell_type": "code",
   "execution_count": 8,
   "metadata": {},
   "outputs": [
    {
     "name": "stdout",
     "output_type": "stream",
     "text": [
      "[5, 7, 9, 11, 13, 15, 17, 19, 21, 23, 25, 27, 29, 31, 33, 35, 37, 39, 41, 43]\n",
      "[5, 7, 9, 11, 13, 15, 17, 19, 21, 23, 25, 27, 29, 31, 33, 35, 37, 39, 41, 43]\n"
     ]
    }
   ],
   "source": [
    "numeros = range(5, 45, 2)\n",
    "lista = []\n",
    "lista2 = list(numeros) # outra maneira de resolver\n",
    "\n",
    "for num in numeros:\n",
    "    lista.append(num)\n",
    "\n",
    "print(lista)\n",
    "print(lista2)"
   ]
  },
  {
   "cell_type": "markdown",
   "metadata": {},
   "source": [
    "## Exercício 9\n",
    "\n",
    "Faça a correção dos erros no código abaixo e execute o programa.\n",
    "\n",
    "```python\n",
    "temperatura = float(input('Qual a temperatura? '))\n",
    "if temperatura > 30\n",
    "print('Vista roupas leves.')\n",
    "else\n",
    "    print('Busque seus casacos.')\n",
    "```"
   ]
  },
  {
   "cell_type": "code",
   "execution_count": 9,
   "metadata": {},
   "outputs": [
    {
     "name": "stdout",
     "output_type": "stream",
     "text": [
      "Vista roupas leves.\n"
     ]
    }
   ],
   "source": [
    "temperatura = float(input('Qual a temperatura? '))\n",
    "\n",
    "if temperatura > 30:\n",
    "    print('Vista roupas leves.')\n",
    "else:\n",
    "    print('Busque seus casacos.')"
   ]
  },
  {
   "cell_type": "markdown",
   "metadata": {},
   "source": [
    "## Exercício 10\n",
    "\n",
    "Faça um programa que conte quantas vezes a letra \"r\" aparece na frase abaixo.\n",
    "\n",
    "Use um placeholder na sua instrução de impressão\n",
    "\n",
    "frase = \"A gratidão é a virtude das almas nobres. O quão feliz é uma pessoa depende da profundidade de sua gratidão.\""
   ]
  },
  {
   "cell_type": "code",
   "execution_count": 10,
   "metadata": {},
   "outputs": [
    {
     "name": "stdout",
     "output_type": "stream",
     "text": [
      "A letra 'r' aparaceu 5 vezes na frase.\n",
      "A letra 'r' aparaceu 5 vezes na frase.\n"
     ]
    }
   ],
   "source": [
    "frase = \"A gratidão é a virtude das almas nobres. O quão feliz é uma pessoa depende da profundidade de sua gratidão.\"\n",
    "\n",
    "qtd_letra = 0\n",
    "qtd_letra2 = frase.count(\"r\") # outra maneira de resolver sem o loop\n",
    "\n",
    "for letra in frase:\n",
    "    if letra == 'r':\n",
    "        qtd_letra += 1     \n",
    "\n",
    "print(f\"A letra 'r' aparaceu {qtd_letra} vezes na frase.\")\n",
    "print(f\"A letra 'r' aparaceu {qtd_letra2} vezes na frase.\")\n"
   ]
  }
 ],
 "metadata": {
  "kernelspec": {
   "display_name": "Python 3",
   "language": "python",
   "name": "python3"
  },
  "language_info": {
   "codemirror_mode": {
    "name": "ipython",
    "version": 3
   },
   "file_extension": ".py",
   "mimetype": "text/x-python",
   "name": "python",
   "nbconvert_exporter": "python",
   "pygments_lexer": "ipython3",
   "version": "3.11.4"
  }
 },
 "nbformat": 4,
 "nbformat_minor": 2
}
