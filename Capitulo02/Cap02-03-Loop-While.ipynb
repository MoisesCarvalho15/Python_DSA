{
 "cells": [
  {
   "cell_type": "markdown",
   "metadata": {},
   "source": [
    "# Capítulo 2 - Loop While"
   ]
  },
  {
   "cell_type": "markdown",
   "metadata": {},
   "source": [
    "## Trabalhando com Loop While\n",
    "\n",
    "O loop while só funciona se a condição for verdadeira.\n",
    "\n",
    "A condição tem que deixar de ser verdadeira dentro do loop em um determinado momento, senão o programa irá ficar rodando até o computador travar."
   ]
  },
  {
   "cell_type": "code",
   "execution_count": 1,
   "metadata": {},
   "outputs": [
    {
     "name": "stdout",
     "output_type": "stream",
     "text": [
      "0\n",
      "1\n",
      "2\n",
      "3\n",
      "4\n",
      "5\n",
      "6\n",
      "7\n",
      "8\n",
      "9\n"
     ]
    }
   ],
   "source": [
    "# Criando uma variável para ser incrementada\n",
    "valor = 0\n",
    "\n",
    "# Imprimindo os valores de 0 a 9\n",
    "while valor < 10:\n",
    "    print(valor)\n",
    "    valor += 1"
   ]
  },
  {
   "cell_type": "code",
   "execution_count": 2,
   "metadata": {},
   "outputs": [],
   "source": [
    "# Criando uma variável\n",
    "valor = 11\n",
    "\n",
    "# Entra no loop somente se a condição for verdadeira\n",
    "while valor < 10:\n",
    "    print(valor)\n",
    "    valor += 1"
   ]
  },
  {
   "cell_type": "code",
   "execution_count": 3,
   "metadata": {},
   "outputs": [
    {
     "name": "stdout",
     "output_type": "stream",
     "text": [
      "O valor de x nesta interação é: 0\n",
      "x ainda é menor que 5. Somando 1 a x\n",
      "\n",
      "O valor de x nesta interação é: 1\n",
      "x ainda é menor que 5. Somando 1 a x\n",
      "\n",
      "O valor de x nesta interação é: 2\n",
      "x ainda é menor que 5. Somando 1 a x\n",
      "\n",
      "O valor de x nesta interação é: 3\n",
      "x ainda é menor que 5. Somando 1 a x\n",
      "\n",
      "O valor de x nesta interação é: 4\n",
      "x ainda é menor que 5. Somando 1 a x\n",
      "\n",
      "Loop concluído!\n",
      "O valor final de x é: 5\n"
     ]
    }
   ],
   "source": [
    "# Criando uma variável para ser incrementada\n",
    "x = 0\n",
    "\n",
    "# Enquanto x for menor que 5\n",
    "while x < 5:\n",
    "    print(\"O valor de x nesta interação é:\", x)\n",
    "    print(\"x ainda é menor que 5. Somando 1 a x\\n\")\n",
    "    x += 1\n",
    "# Quando a condição passa a ser falsa\n",
    "else:\n",
    "    print('Loop concluído!')\n",
    "print(\"O valor final de x é:\",x)"
   ]
  },
  {
   "cell_type": "markdown",
   "metadata": {},
   "source": [
    "### Pass, Break, Continue"
   ]
  },
  {
   "cell_type": "code",
   "execution_count": 4,
   "metadata": {},
   "outputs": [
    {
     "name": "stdout",
     "output_type": "stream",
     "text": [
      "0\n",
      "1\n",
      "2\n"
     ]
    }
   ],
   "source": [
    "# Criando uma variável para ser incrementada\n",
    "valor = 0\n",
    "\n",
    "# Rodando o loop enquanto o valor for menor que 5\n",
    "while valor < 5:\n",
    "    # Parando o loop se o valor for igual a 3\n",
    "    if valor == 3:\n",
    "        break\n",
    "    else:\n",
    "        pass\n",
    "    print(valor)\n",
    "    valor += 1"
   ]
  },
  {
   "cell_type": "code",
   "execution_count": 5,
   "metadata": {},
   "outputs": [
    {
     "name": "stdout",
     "output_type": "stream",
     "text": [
      "P\n",
      "y\n",
      "t\n",
      "h\n",
      "o\n",
      "n\n",
      " \n",
      " \n",
      "D\n",
      "S\n",
      "A\n"
     ]
    }
   ],
   "source": [
    "# Desconsiderando uma letra específica ao imprimir os caracteres da frase\n",
    "for letra in \"Python zzz DSA\":\n",
    "    if letra == \"z\":\n",
    "        continue\n",
    "    print(letra)"
   ]
  },
  {
   "cell_type": "markdown",
   "metadata": {},
   "source": [
    "### While e For juntos"
   ]
  },
  {
   "cell_type": "code",
   "execution_count": 6,
   "metadata": {},
   "outputs": [
    {
     "name": "stdout",
     "output_type": "stream",
     "text": [
      "[2, 3, 5, 7, 11, 13, 17, 19, 23, 29]\n"
     ]
    }
   ],
   "source": [
    "# Variável para armazenar números primos\n",
    "primos = []\n",
    "\n",
    "# Loop for para percorrer números de 2 a 30\n",
    "for num in range(2, 31):\n",
    "\n",
    "    # Variável de controle do loop\n",
    "    eh_primo = True\n",
    "    \n",
    "    # Verificando se o número é primo\n",
    "    i = 2\n",
    "    while i <= num // 2:\n",
    "        if num % i == 0:\n",
    "            eh_primo = False\n",
    "            break\n",
    "        i += 1\n",
    "    \n",
    "    # Adicionando o número primo na lista\n",
    "    if eh_primo:\n",
    "        primos.append(num)\n",
    "\n",
    "# Imprimindo a lista de números primos\n",
    "print(primos)"
   ]
  }
 ],
 "metadata": {
  "kernelspec": {
   "display_name": "Python 3",
   "language": "python",
   "name": "python3"
  },
  "language_info": {
   "codemirror_mode": {
    "name": "ipython",
    "version": 3
   },
   "file_extension": ".py",
   "mimetype": "text/x-python",
   "name": "python",
   "nbconvert_exporter": "python",
   "pygments_lexer": "ipython3",
   "version": "3.11.4"
  }
 },
 "nbformat": 4,
 "nbformat_minor": 2
}
