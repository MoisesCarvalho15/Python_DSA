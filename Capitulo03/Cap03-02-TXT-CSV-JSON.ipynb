{
 "cells": [
  {
   "cell_type": "markdown",
   "metadata": {},
   "source": [
    "# Capítulo 03 - Manipulação de Arquivos - Parte 2"
   ]
  },
  {
   "cell_type": "markdown",
   "metadata": {},
   "source": [
    "## Manipulando arquivos TXT\n",
    "\n",
    "TXT é a extensão de arquivo para arquivos de texto puro. Não tem formatações.<br>\n",
    "São utilizados para armazenar dados simples, como listas, notas e documentos de texto."
   ]
  },
  {
   "cell_type": "code",
   "execution_count": 1,
   "metadata": {},
   "outputs": [],
   "source": [
    "# Criando o texto para ser gravado\n",
    "texto = \"Cientista de Dados pode ser uma excelente alternativa de carreira.\\n\"\n",
    "# concatenando mais um trecho de texto\n",
    "texto += \"Esses profissionais precisam saber como programar em Python.\\n\"\n",
    "# concatenando mais um trecho de texto\n",
    "texto += \"E, claro, devem ser proficientes em Data Science.\""
   ]
  },
  {
   "cell_type": "code",
   "execution_count": 2,
   "metadata": {},
   "outputs": [
    {
     "name": "stdout",
     "output_type": "stream",
     "text": [
      "Cientista de Dados pode ser uma excelente alternativa de carreira.\n",
      "Esses profissionais precisam saber como programar em Python.\n",
      "E, claro, devem ser proficientes em Data Science.\n"
     ]
    }
   ],
   "source": [
    "# Imprimindo o texto\n",
    "print(texto)"
   ]
  },
  {
   "cell_type": "code",
   "execution_count": 3,
   "metadata": {},
   "outputs": [],
   "source": [
    "# Importando o modo os para manipulação de arquivos do computador\n",
    "import os"
   ]
  },
  {
   "cell_type": "code",
   "execution_count": 4,
   "metadata": {},
   "outputs": [],
   "source": [
    "# Criando o arquivo e abrindo ele em modo de escrita\n",
    "arquivo = open(os.path.join(\"arquivos/cientista.txt\"), \"w\")"
   ]
  },
  {
   "cell_type": "code",
   "execution_count": 5,
   "metadata": {},
   "outputs": [],
   "source": [
    "# Gravando os dados no arquivo separados por espaços\n",
    "for palavra in texto.split():\n",
    "    arquivo.write(palavra + \" \")\n"
   ]
  },
  {
   "cell_type": "code",
   "execution_count": 6,
   "metadata": {},
   "outputs": [],
   "source": [
    "# Fechando o arquivo\n",
    "arquivo.close()"
   ]
  },
  {
   "cell_type": "code",
   "execution_count": 7,
   "metadata": {},
   "outputs": [
    {
     "name": "stdout",
     "output_type": "stream",
     "text": [
      "Cientista de Dados pode ser uma excelente alternativa de carreira. Esses profissionais precisam saber como programar em Python. E, claro, devem ser proficientes em Data Science. \n"
     ]
    }
   ],
   "source": [
    "# Abrindo o arquivo em modo de leitura\n",
    "arquivo = open(\"arquivos/cientista.txt\", \"r\")\n",
    "conteudo = arquivo.read()\n",
    "arquivo.close()\n",
    "\n",
    "print(conteudo)"
   ]
  },
  {
   "cell_type": "markdown",
   "metadata": {},
   "source": [
    "### Usando a Expressão `with`\n",
    "\n",
    "Quando usamos essa expressão, o método `close()` é executado automaticamente."
   ]
  },
  {
   "cell_type": "code",
   "execution_count": 8,
   "metadata": {},
   "outputs": [],
   "source": [
    "# Abrindo o arquivo em modo leitura\n",
    "with open(\"arquivos/cientista.txt\", \"r\") as arquivo:\n",
    "    # Atribuindo o conteúdo do arquivo em uma variável\n",
    "    conteudo = arquivo.read()"
   ]
  },
  {
   "cell_type": "code",
   "execution_count": 9,
   "metadata": {},
   "outputs": [
    {
     "name": "stdout",
     "output_type": "stream",
     "text": [
      "Cientista de Dados pode ser uma excelente alternativa de carreira. Esses profissionais precisam saber como programar em Python. E, claro, devem ser proficientes em Data Science. \n"
     ]
    }
   ],
   "source": [
    "# Imprimindo o conteúdo do arquivo\n",
    "print(conteudo)"
   ]
  },
  {
   "cell_type": "code",
   "execution_count": 10,
   "metadata": {},
   "outputs": [
    {
     "name": "stdout",
     "output_type": "stream",
     "text": [
      "Cientista de Dados pode ser uma excelente alternativa de carreira.\n",
      "Esses profissionais precisam saber como programar em Python.\n",
      "E, claro, devem ser proficientes em Data Science.\n"
     ]
    }
   ],
   "source": [
    "# Imprimindo o texto que foi criado no começo deste notebook\n",
    "print(texto)"
   ]
  },
  {
   "cell_type": "code",
   "execution_count": 11,
   "metadata": {},
   "outputs": [],
   "source": [
    "# Abrindo o arquivo em modo de escrita\n",
    "with open(\"arquivos/cientista.txt\", \"w\") as arquivo:\n",
    "    # Pegando o conteúdo do arquivo do caractere 0 até 18\n",
    "    arquivo.write(texto[:19])\n",
    "    # Pulando uma linha (dando enter)\n",
    "    arquivo.write(\"\\n\")\n",
    "    # Pegando o conteúdo do arquivo do caractere 28 até 65\n",
    "    arquivo.write(texto[28:66])\n",
    "    "
   ]
  },
  {
   "cell_type": "code",
   "execution_count": 12,
   "metadata": {},
   "outputs": [
    {
     "name": "stdout",
     "output_type": "stream",
     "text": [
      "Cientista de Dados \n",
      "uma excelente alternativa de carreira.\n"
     ]
    }
   ],
   "source": [
    "# Abrindo o arquivo em modo leitura\n",
    "with open(\"arquivos/cientista.txt\", \"r\") as arquivo:\n",
    "    conteudo = arquivo.read()\n",
    "    \n",
    "# Imprimindo o conteúdo do arquivo\n",
    "print(conteudo)"
   ]
  },
  {
   "cell_type": "markdown",
   "metadata": {},
   "source": [
    "## Manipulando Arquivos CSV\n",
    "\n",
    "CSV (Comma-Separated Values) é um formato de arquivo que armazena dados tabulares em formato de texto plano. Cada linha do arquivo CSV representa uma linha da tabela e as colunas são separadas por vírgulas.<br>\n",
    "Utilizada para exportar e importar dados em diferentes aplicações, como planilhas e banco de dados.<br>\n",
    "CSV é uma opção simples e universal para compartilhar dados, pois pode ser aberto e editado por muitos aplicativos diferentes, incluindo programas de planilha e editores de texto."
   ]
  },
  {
   "cell_type": "code",
   "execution_count": 13,
   "metadata": {},
   "outputs": [],
   "source": [
    "# Importando o módulo CSV\n",
    "import csv"
   ]
  },
  {
   "cell_type": "code",
   "execution_count": 14,
   "metadata": {},
   "outputs": [],
   "source": [
    "# Abrindo o arquivo em modo de escrita\n",
    "with open(\"arquivos/numeros.csv\", \"w\") as arquivo:\n",
    "    # Criando o objeto de gravação\n",
    "    escrever = csv.writer(arquivo)\n",
    "    \n",
    "    # Gravando no arquivo linha a linha\n",
    "    escrever.writerow((\"nota1\", \"nota2\", \"nota3\")) # cabeçalho\n",
    "    escrever.writerow((63, 87, 92)) # linha 1\n",
    "    escrever.writerow((61, 79, 76)) # linha 2\n",
    "    escrever.writerow((72, 64, 91)) # linha 3"
   ]
  },
  {
   "cell_type": "code",
   "execution_count": 15,
   "metadata": {},
   "outputs": [
    {
     "name": "stdout",
     "output_type": "stream",
     "text": [
      "['nota1', 'nota2', 'nota3']\n",
      "['63', '87', '92']\n",
      "['61', '79', '76']\n",
      "['72', '64', '91']\n"
     ]
    }
   ],
   "source": [
    "# Abrindo o arquivo em modo de leitura com caracteres especiais\n",
    "with open(\"arquivos/numeros.csv\", \"r\", encoding=\"utf8\", newline = \"\\r\\n\") as arquivo:\n",
    "    # Criando o objeto de leitura\n",
    "    leitor = csv.reader(arquivo)\n",
    "    \n",
    "    # Imprimindo cada linha do arquivo\n",
    "    for linha in leitor:\n",
    "        print(linha)"
   ]
  },
  {
   "cell_type": "code",
   "execution_count": 16,
   "metadata": {},
   "outputs": [],
   "source": [
    "# Abrindo o arquivo em modo de leitura\n",
    "with open(\"arquivos/numeros.csv\", \"r\") as arquivo:\n",
    "    leitor = csv.reader(arquivo)\n",
    "    # Gerando uma lista com os dados do arquivo\n",
    "    dados = list(leitor) "
   ]
  },
  {
   "cell_type": "code",
   "execution_count": 17,
   "metadata": {},
   "outputs": [
    {
     "name": "stdout",
     "output_type": "stream",
     "text": [
      "[['nota1', 'nota2', 'nota3'], ['63', '87', '92'], ['61', '79', '76'], ['72', '64', '91']]\n"
     ]
    }
   ],
   "source": [
    "# Imprimindo a lista\n",
    "print(dados)"
   ]
  },
  {
   "cell_type": "code",
   "execution_count": 18,
   "metadata": {},
   "outputs": [
    {
     "name": "stdout",
     "output_type": "stream",
     "text": [
      "['63', '87', '92']\n",
      "['61', '79', '76']\n",
      "['72', '64', '91']\n"
     ]
    }
   ],
   "source": [
    "# Imprimindo os dados a partir da segunda linha\n",
    "for linha in dados[1:]:\n",
    "    print(linha)"
   ]
  },
  {
   "cell_type": "markdown",
   "metadata": {},
   "source": [
    "## Manipulando Arquivos JSON\n",
    "\n",
    "JSON (JavaScript Object Notation) é um formato de dados de texto simples e leve que é utilizado para transmitir informações em aplicações web.<br>\n",
    "Baseado na estrutura de objetos JavaScript e usa pares chave-valor para representar os dados.<br>\n",
    "Amplamente utilizado como formato de intercâmbio de dados em aplicações web modernas."
   ]
  },
  {
   "cell_type": "code",
   "execution_count": 19,
   "metadata": {},
   "outputs": [],
   "source": [
    "# Criando um dicionário\n",
    "dict_guido = {\n",
    "    \"nome\": \"Guido Van Rossum\",\n",
    "    \"linguagem\": \"Python\",\n",
    "    \"similar\": [\"C\", \"Modula-3\", \"lisp\"],\n",
    "    \"users\": 1000000\n",
    "}"
   ]
  },
  {
   "cell_type": "code",
   "execution_count": 20,
   "metadata": {},
   "outputs": [
    {
     "name": "stdout",
     "output_type": "stream",
     "text": [
      "nome Guido Van Rossum\n",
      "linguagem Python\n",
      "similar ['C', 'Modula-3', 'lisp']\n",
      "users 1000000\n"
     ]
    }
   ],
   "source": [
    "# Imprimindo cada par chave-valor do dicionário\n",
    "for chave, valor in dict_guido.items():\n",
    "    print(chave, valor)"
   ]
  },
  {
   "cell_type": "code",
   "execution_count": 21,
   "metadata": {},
   "outputs": [],
   "source": [
    "# Importando o módulo JSON\n",
    "import json"
   ]
  },
  {
   "cell_type": "code",
   "execution_count": 22,
   "metadata": {},
   "outputs": [
    {
     "data": {
      "text/plain": [
       "'{\"nome\": \"Guido Van Rossum\", \"linguagem\": \"Python\", \"similar\": [\"C\", \"Modula-3\", \"lisp\"], \"users\": 1000000}'"
      ]
     },
     "execution_count": 22,
     "metadata": {},
     "output_type": "execute_result"
    }
   ],
   "source": [
    "# Convertendo o dicionário para um objeto json\n",
    "json.dumps(dict_guido)"
   ]
  },
  {
   "cell_type": "code",
   "execution_count": 23,
   "metadata": {},
   "outputs": [],
   "source": [
    "# Abrindo o arquivo em modo de escrita\n",
    "with open(\"arquivos/dados.json\", \"w\") as arquivo:\n",
    "    # Escrevendo no arquivo a conversão de dicionário para JSON\n",
    "    arquivo.write(json.dumps(dict_guido))"
   ]
  },
  {
   "cell_type": "code",
   "execution_count": 24,
   "metadata": {},
   "outputs": [],
   "source": [
    "# Abrindo o arquivo em modo de leitura\n",
    "with open(\"arquivos/dados.json\", \"r\") as arquivo:\n",
    "    # Atribuindo o conteúdo do arquivo na variável\n",
    "    texto = arquivo.read()\n",
    "    # Carregando o conteúdo do arquivo  em formato json\n",
    "    dados = json.loads(texto)"
   ]
  },
  {
   "cell_type": "code",
   "execution_count": 25,
   "metadata": {},
   "outputs": [
    {
     "data": {
      "text/plain": [
       "{'nome': 'Guido Van Rossum',\n",
       " 'linguagem': 'Python',\n",
       " 'similar': ['C', 'Modula-3', 'lisp'],\n",
       " 'users': 1000000}"
      ]
     },
     "execution_count": 25,
     "metadata": {},
     "output_type": "execute_result"
    }
   ],
   "source": [
    "# Imprimindo os dados\n",
    "dados"
   ]
  },
  {
   "cell_type": "code",
   "execution_count": 26,
   "metadata": {},
   "outputs": [
    {
     "name": "stdout",
     "output_type": "stream",
     "text": [
      "Guido Van Rossum\n"
     ]
    }
   ],
   "source": [
    "# Imprimindo o valor de uma chave\n",
    "print(dados[\"nome\"])"
   ]
  },
  {
   "cell_type": "markdown",
   "metadata": {},
   "source": [
    "### Extração de Arquivos da Web"
   ]
  },
  {
   "cell_type": "code",
   "execution_count": 27,
   "metadata": {},
   "outputs": [
    {
     "data": {
      "text/plain": [
       "{'id': 57733101,\n",
       " 'title': 'The Good Man trailer',\n",
       " 'description': 'Trailer for the Manifesto Films production, The Good Man, now available in UK/Ireland/US/Canada/Australia/New Zealand on iTunes (https://itunes.apple.com/us/movie/the-good-man/id873130906) and DVD (http://www.amazon.co.uk/The-Good-Man-Aiden-Gillen/dp/B00IIK6CGU/). Co-production with Jet Black Entertainment (South Africa). Starring Aidan Gillen, Thabang Sidloyi, Kelly Campbell, Lunathi Mampofu. Written & directed by Phil Harrison. More info at www.thegoodmanfilm.com<br />\\r\\n<br />\\r\\nCheck out the Variety Magazine review here: http://www.variety.com/review/VE1117947909/',\n",
       " 'url': 'https://vimeo.com/57733101',\n",
       " 'upload_date': '2013-01-19 04:01:15',\n",
       " 'thumbnail_small': 'https://i.vimeocdn.com/video/436057121-e828a1f5478ec0136e957753d107f2a1268c64def9b82faac37c8e30c031cff2-d_100x75',\n",
       " 'thumbnail_medium': 'https://i.vimeocdn.com/video/436057121-e828a1f5478ec0136e957753d107f2a1268c64def9b82faac37c8e30c031cff2-d_200x150',\n",
       " 'thumbnail_large': 'https://i.vimeocdn.com/video/436057121-e828a1f5478ec0136e957753d107f2a1268c64def9b82faac37c8e30c031cff2-d_640',\n",
       " 'user_id': 1334563,\n",
       " 'user_name': 'Manifesto Films',\n",
       " 'user_url': 'https://vimeo.com/manifestofilms',\n",
       " 'user_portrait_small': 'https://i.vimeocdn.com/portrait/4778306_30x30',\n",
       " 'user_portrait_medium': 'https://i.vimeocdn.com/portrait/4778306_75x75',\n",
       " 'user_portrait_large': 'https://i.vimeocdn.com/portrait/4778306_100x100',\n",
       " 'user_portrait_huge': 'https://i.vimeocdn.com/portrait/4778306_300x300',\n",
       " 'stats_number_of_likes': 18,\n",
       " 'stats_number_of_plays': 6652,\n",
       " 'stats_number_of_comments': 0,\n",
       " 'duration': 143,\n",
       " 'width': 1024,\n",
       " 'height': 576,\n",
       " 'tags': 'belfast, cape town, africa, ireland, film',\n",
       " 'embed_privacy': 'anywhere'}"
      ]
     },
     "execution_count": 27,
     "metadata": {},
     "output_type": "execute_result"
    }
   ],
   "source": [
    "# Importando o módulo urlopen\n",
    "from urllib.request import urlopen\n",
    "\n",
    "# Gravando o arquivo json de um link em uma variável\n",
    "response = urlopen(\"http://vimeo.com/api/v2/video/57733101.json\").read().decode(\"utf8\")\n",
    "\n",
    "# Salvando a primeira parte do arquivo carregado em uma variável\n",
    "dados = json.loads(response)[0]\n",
    "\n",
    "# Imprimindo os dados\n",
    "dados"
   ]
  },
  {
   "cell_type": "code",
   "execution_count": 28,
   "metadata": {},
   "outputs": [
    {
     "name": "stdout",
     "output_type": "stream",
     "text": [
      "Título: The Good Man trailer\n",
      "URL: https://vimeo.com/57733101\n",
      "Duração: 143\n",
      "Número de visualizações: 6652\n"
     ]
    }
   ],
   "source": [
    "# Imprimindo os dados\n",
    "print(f\"Título: {dados['title']}\")\n",
    "print(f\"URL: {dados['url']}\")\n",
    "print(f\"Duração: {dados['duration']}\")\n",
    "print(f\"Número de visualizações: {dados['stats_number_of_plays']}\")"
   ]
  },
  {
   "cell_type": "markdown",
   "metadata": {},
   "source": [
    "### Copiando o conteúdo de um arquivo para outro"
   ]
  },
  {
   "cell_type": "code",
   "execution_count": 29,
   "metadata": {},
   "outputs": [],
   "source": [
    "# Nomes dos arquivos\n",
    "arquivo_fonte = \"arquivos/dados.json\"\n",
    "arquivo_destino = \"arquivos/dados.txt\""
   ]
  },
  {
   "cell_type": "code",
   "execution_count": 30,
   "metadata": {},
   "outputs": [],
   "source": [
    "# Método 1\n",
    "with open(arquivo_fonte, \"r\") as infile:\n",
    "    # Salvando o conteúdo do arquivo fonte\n",
    "    text = infile.read()\n",
    "    with open(arquivo_destino, 'w') as outfile:\n",
    "        # Escrevendo o conteúdo para o arquivo destino\n",
    "        outfile.write(text)"
   ]
  },
  {
   "cell_type": "code",
   "execution_count": 31,
   "metadata": {},
   "outputs": [
    {
     "data": {
      "text/plain": [
       "107"
      ]
     },
     "execution_count": 31,
     "metadata": {},
     "output_type": "execute_result"
    }
   ],
   "source": [
    "# Método 2\n",
    "# Escrevendo no arquivo destino o conteúdo do arquivo fonte\n",
    "open(arquivo_destino, \"w\").write(open(arquivo_fonte, \"r\").read())"
   ]
  },
  {
   "cell_type": "code",
   "execution_count": 32,
   "metadata": {},
   "outputs": [],
   "source": [
    "# Leitura do arquivo txt\n",
    "with open(\"arquivos/dados.txt\", \"r\") as arquivo:\n",
    "    texto = arquivo.read()\n",
    "    dados = json.loads(texto)"
   ]
  },
  {
   "cell_type": "code",
   "execution_count": 33,
   "metadata": {},
   "outputs": [
    {
     "name": "stdout",
     "output_type": "stream",
     "text": [
      "{'nome': 'Guido Van Rossum', 'linguagem': 'Python', 'similar': ['C', 'Modula-3', 'lisp'], 'users': 1000000}\n"
     ]
    }
   ],
   "source": [
    "# Imprimindo os dados\n",
    "print(dados)"
   ]
  }
 ],
 "metadata": {
  "kernelspec": {
   "display_name": "Python 3",
   "language": "python",
   "name": "python3"
  },
  "language_info": {
   "codemirror_mode": {
    "name": "ipython",
    "version": 3
   },
   "file_extension": ".py",
   "mimetype": "text/x-python",
   "name": "python",
   "nbconvert_exporter": "python",
   "pygments_lexer": "ipython3",
   "version": "3.11.4"
  }
 },
 "nbformat": 4,
 "nbformat_minor": 2
}
