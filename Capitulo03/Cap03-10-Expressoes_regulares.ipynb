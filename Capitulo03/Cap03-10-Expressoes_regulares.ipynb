{
 "cells": [
  {
   "cell_type": "markdown",
   "id": "6868d299",
   "metadata": {},
   "source": [
    "# Capítulo 03 - Expressões Regulares"
   ]
  },
  {
   "cell_type": "markdown",
   "id": "ac0a1a1d",
   "metadata": {},
   "source": [
    "São padrões usados para combinar ou encontrar ocorrências de sequências de caracteres em uma string."
   ]
  },
  {
   "cell_type": "code",
   "execution_count": 1,
   "id": "442fbcf4",
   "metadata": {},
   "outputs": [],
   "source": [
    "# Importando a biblioteca (Regular expression)\n",
    "import re"
   ]
  },
  {
   "cell_type": "code",
   "execution_count": 2,
   "id": "0154dd7a",
   "metadata": {},
   "outputs": [],
   "source": [
    "# texto para exemplo\n",
    "texto = \"Meu e-mail é exemplo@gmail.com e você pode me contatar em outro_email@yahoo.com\""
   ]
  },
  {
   "cell_type": "code",
   "execution_count": 3,
   "id": "4f02ddd6",
   "metadata": {},
   "outputs": [],
   "source": [
    "# Expressão Regular para contar quantas vezes o caracter \"@\" aparece no texto\n",
    "resultado = len(re.findall(\"@\", texto))"
   ]
  },
  {
   "cell_type": "code",
   "execution_count": 4,
   "id": "3c542f96",
   "metadata": {},
   "outputs": [
    {
     "name": "stdout",
     "output_type": "stream",
     "text": [
      "O caractere '@' aparaceu 2 vezes no texto.\n"
     ]
    }
   ],
   "source": [
    "print(f\"O caractere '@' aparaceu {resultado} vezes no texto.\")"
   ]
  },
  {
   "cell_type": "code",
   "execution_count": 5,
   "id": "e46cce3e",
   "metadata": {},
   "outputs": [],
   "source": [
    "# Extraindo a palavra que aparece após a palavra \"você\".\n",
    "resultado = re.findall(r'você (\\w+)', texto)"
   ]
  },
  {
   "cell_type": "code",
   "execution_count": 6,
   "id": "1365ac84",
   "metadata": {},
   "outputs": [
    {
     "name": "stdout",
     "output_type": "stream",
     "text": [
      "A palavra que aparece após a palavra 'você' é: pode\n"
     ]
    }
   ],
   "source": [
    "print(f\"A palavra que aparece após a palavra 'você' é: {resultado[0]}\")"
   ]
  },
  {
   "cell_type": "markdown",
   "id": "a3be32b2",
   "metadata": {},
   "source": [
    "OBS: O **r** antes da string que representa a expressão regular é usado para indicar que a string é uma string **literal raw**. Isso significa que as barras invertidas entre parenteses não são interpretadas como caracteres de escape, mas são incluídas na expressão como parte do padrão."
   ]
  },
  {
   "cell_type": "code",
   "execution_count": 7,
   "id": "f79c9124",
   "metadata": {},
   "outputs": [],
   "source": [
    "# Criando um texto de exemplo\n",
    "texto = \"No começo da programação estamos completamente perdidos, mas conforme vamos avançando, começamos a aprender mais rapidamente\""
   ]
  },
  {
   "cell_type": "code",
   "execution_count": 8,
   "id": "2b313ce5",
   "metadata": {},
   "outputs": [
    {
     "name": "stdout",
     "output_type": "stream",
     "text": [
      "Do caractere 33 até 46 = completamente\n",
      "Do caractere 113 até 124 = rapidamente\n"
     ]
    }
   ],
   "source": [
    "# pegando sufixo \"mente\" dos advérbios do texto\n",
    "sufixo_mente = re.finditer(r\"\\w+mente\\b\", texto)\n",
    "\n",
    "# Extraindo os advérbios da frase\n",
    "for adv in sufixo_mente:\n",
    "    print(f\"Do caractere {adv.start()} até {adv.end()} = {adv.group(0)}\")"
   ]
  },
  {
   "cell_type": "code",
   "execution_count": 9,
   "id": "c4605540",
   "metadata": {},
   "outputs": [],
   "source": [
    "# Música do Legião urbana - Tempo Perdido\n",
    "musica = '''\n",
    "Todos os dias quando acordo\n",
    "Não tenho mais\n",
    "O tempo que passou\n",
    "Mas tenho muito tempo\n",
    "Temos todo o tempo do mundo\n",
    "Todos os dias\n",
    "Antes de dormir\n",
    "Lembro e esqueço\n",
    "Como foi o dia\n",
    "Sempre em frente\n",
    "Não temos tempo a perder\n",
    "Nosso suor sagrado\n",
    "É bem mais belo\n",
    "Que esse sangue amargo\n",
    "E tão sério\n",
    "E selvagem! Selvagem!\n",
    "Selvagem!\n",
    "Veja o sol\n",
    "Dessa manhã tão cinza\n",
    "A tempestade que chega\n",
    "É da cor dos teus olhos\n",
    "Castanhos\n",
    "Então me abraça forte\n",
    "E diz mais uma vez\n",
    "Que já estamos\n",
    "Distantes de tudo\n",
    "Temos nosso próprio tempo\n",
    "Temos nosso próprio tempo\n",
    "Temos nosso próprio tempo\n",
    "Não tenho medo do escuro\n",
    "Mas deixe as luzes\n",
    "Acesas agora\n",
    "O que foi escondido\n",
    "É o que se escondeu\n",
    "E o que foi prometido\n",
    "Ninguém prometeu\n",
    "Nem foi tempo perdido\n",
    "Somos tão jovens\n",
    "Tão jovens! Tão jovens!\n",
    "'''"
   ]
  },
  {
   "cell_type": "code",
   "execution_count": 10,
   "id": "05ed9257",
   "metadata": {},
   "outputs": [
    {
     "name": "stdout",
     "output_type": "stream",
     "text": [
      "A letra 'a' apareceu 39 vezes na música.\n"
     ]
    }
   ],
   "source": [
    "# REGEX para contar quantas vezes o caractere \"a\" aparece em todo o texto.\n",
    "letra_a = len(re.findall(\"a\", musica))\n",
    "\n",
    "# Imprimindo o resultado\n",
    "print(f\"A letra 'a' apareceu {letra_a} vezes na música.\")"
   ]
  },
  {
   "cell_type": "code",
   "execution_count": 11,
   "id": "d475202d",
   "metadata": {},
   "outputs": [
    {
     "name": "stdout",
     "output_type": "stream",
     "text": [
      "A palavra 'tempo' apareceu 8 vezes ma músicda.\n"
     ]
    }
   ],
   "source": [
    "# REGEX para contar quantas vezes a palavra tempo aparece na música.\n",
    "tempo = len(re.findall(\"tempo\", musica))\n",
    "\n",
    "print(f\"A palavra 'tempo' apareceu {tempo} vezes ma músicda.\")"
   ]
  },
  {
   "cell_type": "code",
   "execution_count": 12,
   "id": "63668672",
   "metadata": {},
   "outputs": [
    {
     "name": "stdout",
     "output_type": "stream",
     "text": [
      "A lista de palavras seguidas por exclamação são: ['selvagem!', 'Selvagem!', 'Selvagem!', 'jovens!', 'jovens!']\n"
     ]
    }
   ],
   "source": [
    "# REGEX para extrair as palavras seguidas por exclamação.\n",
    "exclamacao = re.findall(r\"\\b\\w+!\", musica)\n",
    "\n",
    "print(f\"A lista de palavras seguidas por exclamação são: {exclamacao}\")"
   ]
  },
  {
   "cell_type": "code",
   "execution_count": 13,
   "id": "03300d8e",
   "metadata": {},
   "outputs": [
    {
     "name": "stdout",
     "output_type": "stream",
     "text": [
      "Palavra(s) encontrada(s): ['sangue']\n"
     ]
    }
   ],
   "source": [
    "# REGEX que extrai qualquer palavra cujo antecessor seja a palavra \"esse\" e o sucessor seja a palavra \"amargo\" da letra da música\n",
    "resultado = re.findall(r\"\\besse\\s(\\w+)\\samargo\\b\", musica)\n",
    "\n",
    "print(\"Palavra(s) encontrada(s):\", resultado)"
   ]
  },
  {
   "cell_type": "code",
   "execution_count": 14,
   "metadata": {},
   "outputs": [
    {
     "name": "stdout",
     "output_type": "stream",
     "text": [
      "As palavras acentuadas são: ['Nã', 'esqueç', 'Nã', 'tã', 'sé', 'manhã', 'tã', 'Entã', 'abraç', 'já', 'pró', 'pró', 'pró', 'Nã', 'Ningué', 'tã', 'Tã', 'Tã']\n"
     ]
    }
   ],
   "source": [
    "# 5- Crie um REGEX que retorne as palavras com acento, mas somente os caracteres na palavra que são anteriores ao caractere com acento.\n",
    "resultado = re.findall(r'\\b[\\wÀ-ÿ]+[áéíóúãõç]', musica)\n",
    "\n",
    "print(\"As palavras acentuadas são:\", resultado)"
   ]
  }
 ],
 "metadata": {
  "kernelspec": {
   "display_name": "Python 3 (ipykernel)",
   "language": "python",
   "name": "python3"
  },
  "language_info": {
   "codemirror_mode": {
    "name": "ipython",
    "version": 3
   },
   "file_extension": ".py",
   "mimetype": "text/x-python",
   "name": "python",
   "nbconvert_exporter": "python",
   "pygments_lexer": "ipython3",
   "version": "3.12.0"
  }
 },
 "nbformat": 4,
 "nbformat_minor": 5
}
