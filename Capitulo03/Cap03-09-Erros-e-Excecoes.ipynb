{
 "cells": [
  {
   "cell_type": "markdown",
   "metadata": {},
   "source": [
    "# Capítulo 03 - Tratamento de Erros e Exceções"
   ]
  },
  {
   "cell_type": "markdown",
   "metadata": {},
   "source": [
    "## Try, Except, Finally"
   ]
  },
  {
   "cell_type": "code",
   "execution_count": 1,
   "metadata": {},
   "outputs": [
    {
     "name": "stdout",
     "output_type": "stream",
     "text": [
      "Operação não permitida\n"
     ]
    }
   ],
   "source": [
    "# Utilizando try and except\n",
    "try:\n",
    "    8 + '5'\n",
    "except TypeError:\n",
    "    print(\"Operação não permitida\")"
   ]
  },
  {
   "cell_type": "code",
   "execution_count": 2,
   "metadata": {},
   "outputs": [
    {
     "name": "stdout",
     "output_type": "stream",
     "text": [
      "Conteúdo gravado com sucesso.\n"
     ]
    }
   ],
   "source": [
    "# Utilizando try, except and else\n",
    "try:\n",
    "    arquivo = open(\"arquivos/testandoErros.txt\", \"w\")\n",
    "    arquivo.write(\"Utilizando try, except and else.\")\n",
    "except IOError:\n",
    "    print(\"Erro: Arquivo não encontrado ou não pode ser salvo.\")\n",
    "else:\n",
    "    print(\"Conteúdo gravado com sucesso.\")\n",
    "    arquivo.close() # fechando o arquivo em modo de escrita"
   ]
  },
  {
   "cell_type": "code",
   "execution_count": 3,
   "metadata": {},
   "outputs": [
    {
     "name": "stdout",
     "output_type": "stream",
     "text": [
      "Erro: Arquivo não encontrado ou não pode ser lido.\n"
     ]
    }
   ],
   "source": [
    "# Tentando ler um arquivo não existente\n",
    "try:\n",
    "    arquivo = open(\"arquivos/testandoErros\", \"r\")\n",
    "except IOError:\n",
    "    print(\"Erro: Arquivo não encontrado ou não pode ser lido.\")\n",
    "else:\n",
    "    print(\"Conteúdo lido com sucesso.\")\n",
    "    arquivo.close()"
   ]
  },
  {
   "cell_type": "code",
   "execution_count": 4,
   "metadata": {},
   "outputs": [],
   "source": [
    "def numeroInteiro():\n",
    "    try:\n",
    "        num = int(input(\"Digite um número inteiro: \"))\n",
    "    except:\n",
    "        print(\"Você não digitou um número!\")\n",
    "    finally: # Sempre será executado\n",
    "        print(\"Programa encerrado!\")"
   ]
  },
  {
   "cell_type": "code",
   "execution_count": 5,
   "metadata": {},
   "outputs": [
    {
     "name": "stdout",
     "output_type": "stream",
     "text": [
      "Programa encerrado!\n"
     ]
    }
   ],
   "source": [
    "# Chamando a função\n",
    "numeroInteiro()"
   ]
  },
  {
   "cell_type": "code",
   "execution_count": 6,
   "metadata": {},
   "outputs": [
    {
     "name": "stdout",
     "output_type": "stream",
     "text": [
      "Você não digitou um número!\n",
      "Programa encerrado!\n"
     ]
    }
   ],
   "source": [
    "# Passando um dado inválido\n",
    "numeroInteiro()"
   ]
  },
  {
   "cell_type": "code",
   "execution_count": 7,
   "metadata": {},
   "outputs": [],
   "source": [
    "# Tratando os erros\n",
    "def numeroInteiro():\n",
    "    while True:\n",
    "        try:\n",
    "            num = int(input(\"Digite um número inteiro: \"))\n",
    "        except:\n",
    "            print(\"Você não digitou um número!\")\n",
    "            continue\n",
    "        else:\n",
    "            print(\"Número aceito!\")\n",
    "            break\n",
    "        finally:\n",
    "            print(\"Programa encerrado!\")"
   ]
  },
  {
   "cell_type": "code",
   "execution_count": 8,
   "metadata": {},
   "outputs": [
    {
     "name": "stdout",
     "output_type": "stream",
     "text": [
      "Você não digitou um número!\n",
      "Programa encerrado!\n",
      "Número aceito!\n",
      "Programa encerrado!\n"
     ]
    }
   ],
   "source": [
    "# chamando a função\n",
    "numeroInteiro()"
   ]
  }
 ],
 "metadata": {
  "kernelspec": {
   "display_name": "Python 3",
   "language": "python",
   "name": "python3"
  },
  "language_info": {
   "codemirror_mode": {
    "name": "ipython",
    "version": 3
   },
   "file_extension": ".py",
   "mimetype": "text/x-python",
   "name": "python",
   "nbconvert_exporter": "python",
   "pygments_lexer": "ipython3",
   "version": "3.11.4"
  }
 },
 "nbformat": 4,
 "nbformat_minor": 2
}
